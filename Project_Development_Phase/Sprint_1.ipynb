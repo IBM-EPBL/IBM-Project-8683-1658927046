{
  "cells": [
    {
      "cell_type": "markdown",
      "id": "8f16ce44",
      "metadata": {
        "id": "8f16ce44"
      },
      "source": [
        "# Importing the libraries"
      ]
    },
    {
      "cell_type": "code",
      "execution_count": null,
      "id": "d91ecf33",
      "metadata": {
        "id": "d91ecf33"
      },
      "outputs": [],
      "source": [
        "import pandas as pd\n",
        "import numpy as np\n",
        "import seaborn as sb\n",
        "import matplotlib.pyplot as plt\n",
        "import sklearn as sk"
      ]
    },
    {
      "cell_type": "code",
      "execution_count": null,
      "id": "044cdcec",
      "metadata": {
        "id": "044cdcec"
      },
      "outputs": [],
      "source": [
        "train = pd.read_csv(\"train.csv\")\n",
        "test = pd.read_csv(\"test.csv\")"
      ]
    },
    {
      "cell_type": "code",
      "execution_count": null,
      "id": "44f286ae",
      "metadata": {
        "id": "44f286ae",
        "outputId": "1a058fee-7bc0-42c5-887e-bef25185f4b2"
      },
      "outputs": [
        {
          "data": {
            "text/html": [
              "<div>\n",
              "<style scoped>\n",
              "    .dataframe tbody tr th:only-of-type {\n",
              "        vertical-align: middle;\n",
              "    }\n",
              "\n",
              "    .dataframe tbody tr th {\n",
              "        vertical-align: top;\n",
              "    }\n",
              "\n",
              "    .dataframe thead th {\n",
              "        text-align: right;\n",
              "    }\n",
              "</style>\n",
              "<table border=\"1\" class=\"dataframe\">\n",
              "  <thead>\n",
              "    <tr style=\"text-align: right;\">\n",
              "      <th></th>\n",
              "      <th>id</th>\n",
              "      <th>week</th>\n",
              "      <th>center_id</th>\n",
              "      <th>meal_id</th>\n",
              "      <th>checkout_price</th>\n",
              "      <th>base_price</th>\n",
              "      <th>emailer_for_promotion</th>\n",
              "      <th>homepage_featured</th>\n",
              "      <th>num_orders</th>\n",
              "    </tr>\n",
              "  </thead>\n",
              "  <tbody>\n",
              "    <tr>\n",
              "      <th>0</th>\n",
              "      <td>1379560</td>\n",
              "      <td>1</td>\n",
              "      <td>55</td>\n",
              "      <td>1885</td>\n",
              "      <td>136.83</td>\n",
              "      <td>152.29</td>\n",
              "      <td>0</td>\n",
              "      <td>0</td>\n",
              "      <td>177</td>\n",
              "    </tr>\n",
              "    <tr>\n",
              "      <th>1</th>\n",
              "      <td>1466964</td>\n",
              "      <td>1</td>\n",
              "      <td>55</td>\n",
              "      <td>1993</td>\n",
              "      <td>136.83</td>\n",
              "      <td>135.83</td>\n",
              "      <td>0</td>\n",
              "      <td>0</td>\n",
              "      <td>270</td>\n",
              "    </tr>\n",
              "    <tr>\n",
              "      <th>2</th>\n",
              "      <td>1346989</td>\n",
              "      <td>1</td>\n",
              "      <td>55</td>\n",
              "      <td>2539</td>\n",
              "      <td>134.86</td>\n",
              "      <td>135.86</td>\n",
              "      <td>0</td>\n",
              "      <td>0</td>\n",
              "      <td>189</td>\n",
              "    </tr>\n",
              "    <tr>\n",
              "      <th>3</th>\n",
              "      <td>1338232</td>\n",
              "      <td>1</td>\n",
              "      <td>55</td>\n",
              "      <td>2139</td>\n",
              "      <td>339.50</td>\n",
              "      <td>437.53</td>\n",
              "      <td>0</td>\n",
              "      <td>0</td>\n",
              "      <td>54</td>\n",
              "    </tr>\n",
              "    <tr>\n",
              "      <th>4</th>\n",
              "      <td>1448490</td>\n",
              "      <td>1</td>\n",
              "      <td>55</td>\n",
              "      <td>2631</td>\n",
              "      <td>243.50</td>\n",
              "      <td>242.50</td>\n",
              "      <td>0</td>\n",
              "      <td>0</td>\n",
              "      <td>40</td>\n",
              "    </tr>\n",
              "  </tbody>\n",
              "</table>\n",
              "</div>"
            ],
            "text/plain": [
              "        id  week  center_id  meal_id  checkout_price  base_price  \\\n",
              "0  1379560     1         55     1885          136.83      152.29   \n",
              "1  1466964     1         55     1993          136.83      135.83   \n",
              "2  1346989     1         55     2539          134.86      135.86   \n",
              "3  1338232     1         55     2139          339.50      437.53   \n",
              "4  1448490     1         55     2631          243.50      242.50   \n",
              "\n",
              "   emailer_for_promotion  homepage_featured  num_orders  \n",
              "0                      0                  0         177  \n",
              "1                      0                  0         270  \n",
              "2                      0                  0         189  \n",
              "3                      0                  0          54  \n",
              "4                      0                  0          40  "
            ]
          },
          "execution_count": 17,
          "metadata": {},
          "output_type": "execute_result"
        }
      ],
      "source": [
        "train.head()"
      ]
    },
    {
      "cell_type": "code",
      "execution_count": null,
      "id": "19143dc9",
      "metadata": {
        "id": "19143dc9",
        "outputId": "c6f0d5c8-d988-4e6e-f7e8-26317853fb13"
      },
      "outputs": [
        {
          "data": {
            "text/html": [
              "<div>\n",
              "<style scoped>\n",
              "    .dataframe tbody tr th:only-of-type {\n",
              "        vertical-align: middle;\n",
              "    }\n",
              "\n",
              "    .dataframe tbody tr th {\n",
              "        vertical-align: top;\n",
              "    }\n",
              "\n",
              "    .dataframe thead th {\n",
              "        text-align: right;\n",
              "    }\n",
              "</style>\n",
              "<table border=\"1\" class=\"dataframe\">\n",
              "  <thead>\n",
              "    <tr style=\"text-align: right;\">\n",
              "      <th></th>\n",
              "      <th>id</th>\n",
              "      <th>week</th>\n",
              "      <th>center_id</th>\n",
              "      <th>meal_id</th>\n",
              "      <th>checkout_price</th>\n",
              "      <th>base_price</th>\n",
              "      <th>emailer_for_promotion</th>\n",
              "      <th>homepage_featured</th>\n",
              "    </tr>\n",
              "  </thead>\n",
              "  <tbody>\n",
              "    <tr>\n",
              "      <th>0</th>\n",
              "      <td>1028232</td>\n",
              "      <td>146</td>\n",
              "      <td>55</td>\n",
              "      <td>1885</td>\n",
              "      <td>158.11</td>\n",
              "      <td>159.11</td>\n",
              "      <td>0</td>\n",
              "      <td>0</td>\n",
              "    </tr>\n",
              "    <tr>\n",
              "      <th>1</th>\n",
              "      <td>1127204</td>\n",
              "      <td>146</td>\n",
              "      <td>55</td>\n",
              "      <td>1993</td>\n",
              "      <td>160.11</td>\n",
              "      <td>159.11</td>\n",
              "      <td>0</td>\n",
              "      <td>0</td>\n",
              "    </tr>\n",
              "    <tr>\n",
              "      <th>2</th>\n",
              "      <td>1212707</td>\n",
              "      <td>146</td>\n",
              "      <td>55</td>\n",
              "      <td>2539</td>\n",
              "      <td>157.14</td>\n",
              "      <td>159.14</td>\n",
              "      <td>0</td>\n",
              "      <td>0</td>\n",
              "    </tr>\n",
              "    <tr>\n",
              "      <th>3</th>\n",
              "      <td>1082698</td>\n",
              "      <td>146</td>\n",
              "      <td>55</td>\n",
              "      <td>2631</td>\n",
              "      <td>162.02</td>\n",
              "      <td>162.02</td>\n",
              "      <td>0</td>\n",
              "      <td>0</td>\n",
              "    </tr>\n",
              "    <tr>\n",
              "      <th>4</th>\n",
              "      <td>1400926</td>\n",
              "      <td>146</td>\n",
              "      <td>55</td>\n",
              "      <td>1248</td>\n",
              "      <td>163.93</td>\n",
              "      <td>163.93</td>\n",
              "      <td>0</td>\n",
              "      <td>0</td>\n",
              "    </tr>\n",
              "  </tbody>\n",
              "</table>\n",
              "</div>"
            ],
            "text/plain": [
              "        id  week  center_id  meal_id  checkout_price  base_price  \\\n",
              "0  1028232   146         55     1885          158.11      159.11   \n",
              "1  1127204   146         55     1993          160.11      159.11   \n",
              "2  1212707   146         55     2539          157.14      159.14   \n",
              "3  1082698   146         55     2631          162.02      162.02   \n",
              "4  1400926   146         55     1248          163.93      163.93   \n",
              "\n",
              "   emailer_for_promotion  homepage_featured  \n",
              "0                      0                  0  \n",
              "1                      0                  0  \n",
              "2                      0                  0  \n",
              "3                      0                  0  \n",
              "4                      0                  0  "
            ]
          },
          "execution_count": 18,
          "metadata": {},
          "output_type": "execute_result"
        }
      ],
      "source": [
        "test.head()"
      ]
    },
    {
      "cell_type": "code",
      "execution_count": null,
      "id": "b46d8b29",
      "metadata": {
        "id": "b46d8b29",
        "outputId": "9f23b372-5f40-422e-fac2-2765f2c10023"
      },
      "outputs": [
        {
          "name": "stdout",
          "output_type": "stream",
          "text": [
            "<class 'pandas.core.frame.DataFrame'>\n",
            "RangeIndex: 456548 entries, 0 to 456547\n",
            "Data columns (total 9 columns):\n",
            " #   Column                 Non-Null Count   Dtype  \n",
            "---  ------                 --------------   -----  \n",
            " 0   id                     456548 non-null  int64  \n",
            " 1   week                   456548 non-null  int64  \n",
            " 2   center_id              456548 non-null  int64  \n",
            " 3   meal_id                456548 non-null  int64  \n",
            " 4   checkout_price         456548 non-null  float64\n",
            " 5   base_price             456548 non-null  float64\n",
            " 6   emailer_for_promotion  456548 non-null  int64  \n",
            " 7   homepage_featured      456548 non-null  int64  \n",
            " 8   num_orders             456548 non-null  int64  \n",
            "dtypes: float64(2), int64(7)\n",
            "memory usage: 31.3 MB\n"
          ]
        }
      ],
      "source": [
        "train.info()"
      ]
    },
    {
      "cell_type": "code",
      "execution_count": null,
      "id": "3d80bd24",
      "metadata": {
        "id": "3d80bd24",
        "outputId": "920bbb53-188e-48ad-ccb8-36e0a4cb2a51"
      },
      "outputs": [
        {
          "data": {
            "text/plain": [
              "count    456548.000000\n",
              "mean        261.872760\n",
              "std         395.922798\n",
              "min          13.000000\n",
              "25%          54.000000\n",
              "50%         136.000000\n",
              "75%         324.000000\n",
              "max       24299.000000\n",
              "Name: num_orders, dtype: float64"
            ]
          },
          "execution_count": 20,
          "metadata": {},
          "output_type": "execute_result"
        }
      ],
      "source": [
        "train['num_orders'].describe()"
      ]
    },
    {
      "cell_type": "markdown",
      "id": "0c6c3013",
      "metadata": {
        "id": "0c6c3013"
      },
      "source": [
        "# Checking for Null Values"
      ]
    },
    {
      "cell_type": "code",
      "execution_count": null,
      "id": "fdd3b4c9",
      "metadata": {
        "id": "fdd3b4c9",
        "outputId": "3caca09e-985a-48d9-bed2-1ceaacff7ab4"
      },
      "outputs": [
        {
          "data": {
            "text/plain": [
              "id                       0\n",
              "week                     0\n",
              "center_id                0\n",
              "meal_id                  0\n",
              "checkout_price           0\n",
              "base_price               0\n",
              "emailer_for_promotion    0\n",
              "homepage_featured        0\n",
              "num_orders               0\n",
              "dtype: int64"
            ]
          },
          "execution_count": 21,
          "metadata": {},
          "output_type": "execute_result"
        }
      ],
      "source": [
        "train.isnull().sum()"
      ]
    },
    {
      "cell_type": "markdown",
      "id": "2e54b398",
      "metadata": {
        "id": "2e54b398"
      },
      "source": [
        "# Reading and Merging .csv files"
      ]
    },
    {
      "cell_type": "code",
      "execution_count": null,
      "id": "89bfc4b6",
      "metadata": {
        "id": "89bfc4b6"
      },
      "outputs": [],
      "source": [
        "meal_info = pd.read_csv(\"meal_info.csv\")\n",
        "center_info = pd.read_csv(\"fullfilment_center_info.csv\")"
      ]
    },
    {
      "cell_type": "code",
      "execution_count": null,
      "id": "e1e4b6a1",
      "metadata": {
        "id": "e1e4b6a1"
      },
      "outputs": [],
      "source": [
        "trainfinal = pd.merge(train, meal_info, on=\"meal_id\", how=\"outer\")\n",
        "trainfinal = pd.merge(trainfinal, center_info, on=\"center_id\", how=\"outer\")"
      ]
    },
    {
      "cell_type": "code",
      "execution_count": null,
      "id": "76f80c42",
      "metadata": {
        "id": "76f80c42",
        "outputId": "9475ad3d-1bc4-48df-9df8-e602551fcf39"
      },
      "outputs": [
        {
          "data": {
            "text/html": [
              "<div>\n",
              "<style scoped>\n",
              "    .dataframe tbody tr th:only-of-type {\n",
              "        vertical-align: middle;\n",
              "    }\n",
              "\n",
              "    .dataframe tbody tr th {\n",
              "        vertical-align: top;\n",
              "    }\n",
              "\n",
              "    .dataframe thead th {\n",
              "        text-align: right;\n",
              "    }\n",
              "</style>\n",
              "<table border=\"1\" class=\"dataframe\">\n",
              "  <thead>\n",
              "    <tr style=\"text-align: right;\">\n",
              "      <th></th>\n",
              "      <th>id</th>\n",
              "      <th>week</th>\n",
              "      <th>center_id</th>\n",
              "      <th>meal_id</th>\n",
              "      <th>checkout_price</th>\n",
              "      <th>base_price</th>\n",
              "      <th>emailer_for_promotion</th>\n",
              "      <th>homepage_featured</th>\n",
              "      <th>num_orders</th>\n",
              "      <th>category</th>\n",
              "      <th>cuisine</th>\n",
              "      <th>city_code</th>\n",
              "      <th>region_code</th>\n",
              "      <th>center_type</th>\n",
              "      <th>op_area</th>\n",
              "    </tr>\n",
              "  </thead>\n",
              "  <tbody>\n",
              "    <tr>\n",
              "      <th>0</th>\n",
              "      <td>1379560</td>\n",
              "      <td>1</td>\n",
              "      <td>55</td>\n",
              "      <td>1885</td>\n",
              "      <td>136.83</td>\n",
              "      <td>152.29</td>\n",
              "      <td>0</td>\n",
              "      <td>0</td>\n",
              "      <td>177</td>\n",
              "      <td>Beverages</td>\n",
              "      <td>Thai</td>\n",
              "      <td>647</td>\n",
              "      <td>56</td>\n",
              "      <td>TYPE_C</td>\n",
              "      <td>2.0</td>\n",
              "    </tr>\n",
              "    <tr>\n",
              "      <th>1</th>\n",
              "      <td>1018704</td>\n",
              "      <td>2</td>\n",
              "      <td>55</td>\n",
              "      <td>1885</td>\n",
              "      <td>135.83</td>\n",
              "      <td>152.29</td>\n",
              "      <td>0</td>\n",
              "      <td>0</td>\n",
              "      <td>323</td>\n",
              "      <td>Beverages</td>\n",
              "      <td>Thai</td>\n",
              "      <td>647</td>\n",
              "      <td>56</td>\n",
              "      <td>TYPE_C</td>\n",
              "      <td>2.0</td>\n",
              "    </tr>\n",
              "    <tr>\n",
              "      <th>2</th>\n",
              "      <td>1196273</td>\n",
              "      <td>3</td>\n",
              "      <td>55</td>\n",
              "      <td>1885</td>\n",
              "      <td>132.92</td>\n",
              "      <td>133.92</td>\n",
              "      <td>0</td>\n",
              "      <td>0</td>\n",
              "      <td>96</td>\n",
              "      <td>Beverages</td>\n",
              "      <td>Thai</td>\n",
              "      <td>647</td>\n",
              "      <td>56</td>\n",
              "      <td>TYPE_C</td>\n",
              "      <td>2.0</td>\n",
              "    </tr>\n",
              "    <tr>\n",
              "      <th>3</th>\n",
              "      <td>1116527</td>\n",
              "      <td>4</td>\n",
              "      <td>55</td>\n",
              "      <td>1885</td>\n",
              "      <td>135.86</td>\n",
              "      <td>134.86</td>\n",
              "      <td>0</td>\n",
              "      <td>0</td>\n",
              "      <td>163</td>\n",
              "      <td>Beverages</td>\n",
              "      <td>Thai</td>\n",
              "      <td>647</td>\n",
              "      <td>56</td>\n",
              "      <td>TYPE_C</td>\n",
              "      <td>2.0</td>\n",
              "    </tr>\n",
              "    <tr>\n",
              "      <th>4</th>\n",
              "      <td>1343872</td>\n",
              "      <td>5</td>\n",
              "      <td>55</td>\n",
              "      <td>1885</td>\n",
              "      <td>146.50</td>\n",
              "      <td>147.50</td>\n",
              "      <td>0</td>\n",
              "      <td>0</td>\n",
              "      <td>215</td>\n",
              "      <td>Beverages</td>\n",
              "      <td>Thai</td>\n",
              "      <td>647</td>\n",
              "      <td>56</td>\n",
              "      <td>TYPE_C</td>\n",
              "      <td>2.0</td>\n",
              "    </tr>\n",
              "  </tbody>\n",
              "</table>\n",
              "</div>"
            ],
            "text/plain": [
              "        id  week  center_id  meal_id  checkout_price  base_price  \\\n",
              "0  1379560     1         55     1885          136.83      152.29   \n",
              "1  1018704     2         55     1885          135.83      152.29   \n",
              "2  1196273     3         55     1885          132.92      133.92   \n",
              "3  1116527     4         55     1885          135.86      134.86   \n",
              "4  1343872     5         55     1885          146.50      147.50   \n",
              "\n",
              "   emailer_for_promotion  homepage_featured  num_orders   category cuisine  \\\n",
              "0                      0                  0         177  Beverages    Thai   \n",
              "1                      0                  0         323  Beverages    Thai   \n",
              "2                      0                  0          96  Beverages    Thai   \n",
              "3                      0                  0         163  Beverages    Thai   \n",
              "4                      0                  0         215  Beverages    Thai   \n",
              "\n",
              "   city_code  region_code center_type  op_area  \n",
              "0        647           56      TYPE_C      2.0  \n",
              "1        647           56      TYPE_C      2.0  \n",
              "2        647           56      TYPE_C      2.0  \n",
              "3        647           56      TYPE_C      2.0  \n",
              "4        647           56      TYPE_C      2.0  "
            ]
          },
          "execution_count": 24,
          "metadata": {},
          "output_type": "execute_result"
        }
      ],
      "source": [
        "trainfinal.head()"
      ]
    },
    {
      "cell_type": "markdown",
      "id": "7da46450",
      "metadata": {
        "id": "7da46450"
      },
      "source": [
        "# Dropping Columns"
      ]
    },
    {
      "cell_type": "code",
      "execution_count": null,
      "id": "3af09a0e",
      "metadata": {
        "id": "3af09a0e",
        "outputId": "2d84a21f-38b5-4f56-9eb1-8509e2b85fa2"
      },
      "outputs": [
        {
          "data": {
            "text/html": [
              "<div>\n",
              "<style scoped>\n",
              "    .dataframe tbody tr th:only-of-type {\n",
              "        vertical-align: middle;\n",
              "    }\n",
              "\n",
              "    .dataframe tbody tr th {\n",
              "        vertical-align: top;\n",
              "    }\n",
              "\n",
              "    .dataframe thead th {\n",
              "        text-align: right;\n",
              "    }\n",
              "</style>\n",
              "<table border=\"1\" class=\"dataframe\">\n",
              "  <thead>\n",
              "    <tr style=\"text-align: right;\">\n",
              "      <th></th>\n",
              "      <th>id</th>\n",
              "      <th>week</th>\n",
              "      <th>checkout_price</th>\n",
              "      <th>base_price</th>\n",
              "      <th>emailer_for_promotion</th>\n",
              "      <th>homepage_featured</th>\n",
              "      <th>num_orders</th>\n",
              "      <th>category</th>\n",
              "      <th>cuisine</th>\n",
              "      <th>city_code</th>\n",
              "      <th>region_code</th>\n",
              "      <th>center_type</th>\n",
              "      <th>op_area</th>\n",
              "    </tr>\n",
              "  </thead>\n",
              "  <tbody>\n",
              "    <tr>\n",
              "      <th>0</th>\n",
              "      <td>1379560</td>\n",
              "      <td>1</td>\n",
              "      <td>136.83</td>\n",
              "      <td>152.29</td>\n",
              "      <td>0</td>\n",
              "      <td>0</td>\n",
              "      <td>177</td>\n",
              "      <td>Beverages</td>\n",
              "      <td>Thai</td>\n",
              "      <td>647</td>\n",
              "      <td>56</td>\n",
              "      <td>TYPE_C</td>\n",
              "      <td>2.0</td>\n",
              "    </tr>\n",
              "    <tr>\n",
              "      <th>1</th>\n",
              "      <td>1018704</td>\n",
              "      <td>2</td>\n",
              "      <td>135.83</td>\n",
              "      <td>152.29</td>\n",
              "      <td>0</td>\n",
              "      <td>0</td>\n",
              "      <td>323</td>\n",
              "      <td>Beverages</td>\n",
              "      <td>Thai</td>\n",
              "      <td>647</td>\n",
              "      <td>56</td>\n",
              "      <td>TYPE_C</td>\n",
              "      <td>2.0</td>\n",
              "    </tr>\n",
              "    <tr>\n",
              "      <th>2</th>\n",
              "      <td>1196273</td>\n",
              "      <td>3</td>\n",
              "      <td>132.92</td>\n",
              "      <td>133.92</td>\n",
              "      <td>0</td>\n",
              "      <td>0</td>\n",
              "      <td>96</td>\n",
              "      <td>Beverages</td>\n",
              "      <td>Thai</td>\n",
              "      <td>647</td>\n",
              "      <td>56</td>\n",
              "      <td>TYPE_C</td>\n",
              "      <td>2.0</td>\n",
              "    </tr>\n",
              "    <tr>\n",
              "      <th>3</th>\n",
              "      <td>1116527</td>\n",
              "      <td>4</td>\n",
              "      <td>135.86</td>\n",
              "      <td>134.86</td>\n",
              "      <td>0</td>\n",
              "      <td>0</td>\n",
              "      <td>163</td>\n",
              "      <td>Beverages</td>\n",
              "      <td>Thai</td>\n",
              "      <td>647</td>\n",
              "      <td>56</td>\n",
              "      <td>TYPE_C</td>\n",
              "      <td>2.0</td>\n",
              "    </tr>\n",
              "    <tr>\n",
              "      <th>4</th>\n",
              "      <td>1343872</td>\n",
              "      <td>5</td>\n",
              "      <td>146.50</td>\n",
              "      <td>147.50</td>\n",
              "      <td>0</td>\n",
              "      <td>0</td>\n",
              "      <td>215</td>\n",
              "      <td>Beverages</td>\n",
              "      <td>Thai</td>\n",
              "      <td>647</td>\n",
              "      <td>56</td>\n",
              "      <td>TYPE_C</td>\n",
              "      <td>2.0</td>\n",
              "    </tr>\n",
              "  </tbody>\n",
              "</table>\n",
              "</div>"
            ],
            "text/plain": [
              "        id  week  checkout_price  base_price  emailer_for_promotion  \\\n",
              "0  1379560     1          136.83      152.29                      0   \n",
              "1  1018704     2          135.83      152.29                      0   \n",
              "2  1196273     3          132.92      133.92                      0   \n",
              "3  1116527     4          135.86      134.86                      0   \n",
              "4  1343872     5          146.50      147.50                      0   \n",
              "\n",
              "   homepage_featured  num_orders   category cuisine  city_code  region_code  \\\n",
              "0                  0         177  Beverages    Thai        647           56   \n",
              "1                  0         323  Beverages    Thai        647           56   \n",
              "2                  0          96  Beverages    Thai        647           56   \n",
              "3                  0         163  Beverages    Thai        647           56   \n",
              "4                  0         215  Beverages    Thai        647           56   \n",
              "\n",
              "  center_type  op_area  \n",
              "0      TYPE_C      2.0  \n",
              "1      TYPE_C      2.0  \n",
              "2      TYPE_C      2.0  \n",
              "3      TYPE_C      2.0  \n",
              "4      TYPE_C      2.0  "
            ]
          },
          "execution_count": 25,
          "metadata": {},
          "output_type": "execute_result"
        }
      ],
      "source": [
        "trainfinal=trainfinal.drop(['center_id','meal_id'],axis=1)\n",
        "trainfinal.head()"
      ]
    },
    {
      "cell_type": "code",
      "execution_count": null,
      "id": "4e54dd35",
      "metadata": {
        "id": "4e54dd35",
        "outputId": "80d7e8b1-e828-437e-c259-aaee2eb7e269"
      },
      "outputs": [
        {
          "name": "stdout",
          "output_type": "stream",
          "text": [
            "['id', 'week', 'checkout_price', 'base_price', 'emailer_for_promotion', 'homepage_featured', 'num_orders', 'category', 'cuisine', 'city_code', 'region_code', 'center_type', 'op_area']\n"
          ]
        }
      ],
      "source": [
        "cols=trainfinal.columns.tolist()\n",
        "print(cols)"
      ]
    },
    {
      "cell_type": "code",
      "execution_count": null,
      "id": "58971abd",
      "metadata": {
        "id": "58971abd",
        "outputId": "6b2e1d3c-d2c7-433f-8c92-b086e1944157"
      },
      "outputs": [
        {
          "name": "stdout",
          "output_type": "stream",
          "text": [
            "['id', 'week', 'city_code', 'region_code', 'center_type', 'op_area', 'category', 'cuisine', 'checkout_price', 'base_price', 'emailer_for_promotion', 'homepage_featured', 'num_orders']\n"
          ]
        }
      ],
      "source": [
        "cols=cols[:2]+cols[9:]+cols[7:9]+cols[2:7]\n",
        "print(cols)"
      ]
    },
    {
      "cell_type": "code",
      "execution_count": null,
      "id": "605784de",
      "metadata": {
        "id": "605784de"
      },
      "outputs": [],
      "source": [
        "trainfinal=trainfinal[cols]"
      ]
    },
    {
      "cell_type": "code",
      "execution_count": null,
      "id": "449b5f36",
      "metadata": {
        "id": "449b5f36",
        "outputId": "a986439f-cbe7-4460-9895-fee0e64a388f"
      },
      "outputs": [
        {
          "data": {
            "text/plain": [
              "id                         int64\n",
              "week                       int64\n",
              "city_code                  int64\n",
              "region_code                int64\n",
              "center_type               object\n",
              "op_area                  float64\n",
              "category                  object\n",
              "cuisine                   object\n",
              "checkout_price           float64\n",
              "base_price               float64\n",
              "emailer_for_promotion      int64\n",
              "homepage_featured          int64\n",
              "num_orders                 int64\n",
              "dtype: object"
            ]
          },
          "execution_count": 29,
          "metadata": {},
          "output_type": "execute_result"
        }
      ],
      "source": [
        "trainfinal.dtypes"
      ]
    },
    {
      "cell_type": "markdown",
      "id": "a233acac",
      "metadata": {
        "id": "a233acac"
      },
      "source": [
        "# Label Encoding"
      ]
    },
    {
      "cell_type": "code",
      "execution_count": null,
      "id": "62208050",
      "metadata": {
        "id": "62208050"
      },
      "outputs": [],
      "source": [
        "from sklearn.preprocessing import LabelEncoder"
      ]
    },
    {
      "cell_type": "code",
      "execution_count": null,
      "id": "3cca2327",
      "metadata": {
        "id": "3cca2327"
      },
      "outputs": [],
      "source": [
        "lb1=LabelEncoder()\n",
        "trainfinal['center_type']=lb1.fit_transform(trainfinal['center_type'])\n",
        "lb2=LabelEncoder()\n",
        "trainfinal['category']=lb1.fit_transform(trainfinal['category'])\n",
        "lb1=LabelEncoder()\n",
        "trainfinal['cuisine']=lb1.fit_transform(trainfinal['cuisine'])"
      ]
    },
    {
      "cell_type": "code",
      "execution_count": null,
      "id": "43c3030a",
      "metadata": {
        "id": "43c3030a",
        "outputId": "787ab793-e49d-4ea3-9b67-ff878eb8b1d9"
      },
      "outputs": [
        {
          "data": {
            "text/html": [
              "<div>\n",
              "<style scoped>\n",
              "    .dataframe tbody tr th:only-of-type {\n",
              "        vertical-align: middle;\n",
              "    }\n",
              "\n",
              "    .dataframe tbody tr th {\n",
              "        vertical-align: top;\n",
              "    }\n",
              "\n",
              "    .dataframe thead th {\n",
              "        text-align: right;\n",
              "    }\n",
              "</style>\n",
              "<table border=\"1\" class=\"dataframe\">\n",
              "  <thead>\n",
              "    <tr style=\"text-align: right;\">\n",
              "      <th></th>\n",
              "      <th>id</th>\n",
              "      <th>week</th>\n",
              "      <th>city_code</th>\n",
              "      <th>region_code</th>\n",
              "      <th>center_type</th>\n",
              "      <th>op_area</th>\n",
              "      <th>category</th>\n",
              "      <th>cuisine</th>\n",
              "      <th>checkout_price</th>\n",
              "      <th>base_price</th>\n",
              "      <th>emailer_for_promotion</th>\n",
              "      <th>homepage_featured</th>\n",
              "      <th>num_orders</th>\n",
              "    </tr>\n",
              "  </thead>\n",
              "  <tbody>\n",
              "    <tr>\n",
              "      <th>0</th>\n",
              "      <td>1379560</td>\n",
              "      <td>1</td>\n",
              "      <td>647</td>\n",
              "      <td>56</td>\n",
              "      <td>2</td>\n",
              "      <td>2.0</td>\n",
              "      <td>0</td>\n",
              "      <td>3</td>\n",
              "      <td>136.83</td>\n",
              "      <td>152.29</td>\n",
              "      <td>0</td>\n",
              "      <td>0</td>\n",
              "      <td>177</td>\n",
              "    </tr>\n",
              "    <tr>\n",
              "      <th>1</th>\n",
              "      <td>1018704</td>\n",
              "      <td>2</td>\n",
              "      <td>647</td>\n",
              "      <td>56</td>\n",
              "      <td>2</td>\n",
              "      <td>2.0</td>\n",
              "      <td>0</td>\n",
              "      <td>3</td>\n",
              "      <td>135.83</td>\n",
              "      <td>152.29</td>\n",
              "      <td>0</td>\n",
              "      <td>0</td>\n",
              "      <td>323</td>\n",
              "    </tr>\n",
              "    <tr>\n",
              "      <th>2</th>\n",
              "      <td>1196273</td>\n",
              "      <td>3</td>\n",
              "      <td>647</td>\n",
              "      <td>56</td>\n",
              "      <td>2</td>\n",
              "      <td>2.0</td>\n",
              "      <td>0</td>\n",
              "      <td>3</td>\n",
              "      <td>132.92</td>\n",
              "      <td>133.92</td>\n",
              "      <td>0</td>\n",
              "      <td>0</td>\n",
              "      <td>96</td>\n",
              "    </tr>\n",
              "    <tr>\n",
              "      <th>3</th>\n",
              "      <td>1116527</td>\n",
              "      <td>4</td>\n",
              "      <td>647</td>\n",
              "      <td>56</td>\n",
              "      <td>2</td>\n",
              "      <td>2.0</td>\n",
              "      <td>0</td>\n",
              "      <td>3</td>\n",
              "      <td>135.86</td>\n",
              "      <td>134.86</td>\n",
              "      <td>0</td>\n",
              "      <td>0</td>\n",
              "      <td>163</td>\n",
              "    </tr>\n",
              "    <tr>\n",
              "      <th>4</th>\n",
              "      <td>1343872</td>\n",
              "      <td>5</td>\n",
              "      <td>647</td>\n",
              "      <td>56</td>\n",
              "      <td>2</td>\n",
              "      <td>2.0</td>\n",
              "      <td>0</td>\n",
              "      <td>3</td>\n",
              "      <td>146.50</td>\n",
              "      <td>147.50</td>\n",
              "      <td>0</td>\n",
              "      <td>0</td>\n",
              "      <td>215</td>\n",
              "    </tr>\n",
              "  </tbody>\n",
              "</table>\n",
              "</div>"
            ],
            "text/plain": [
              "        id  week  city_code  region_code  center_type  op_area  category  \\\n",
              "0  1379560     1        647           56            2      2.0         0   \n",
              "1  1018704     2        647           56            2      2.0         0   \n",
              "2  1196273     3        647           56            2      2.0         0   \n",
              "3  1116527     4        647           56            2      2.0         0   \n",
              "4  1343872     5        647           56            2      2.0         0   \n",
              "\n",
              "   cuisine  checkout_price  base_price  emailer_for_promotion  \\\n",
              "0        3          136.83      152.29                      0   \n",
              "1        3          135.83      152.29                      0   \n",
              "2        3          132.92      133.92                      0   \n",
              "3        3          135.86      134.86                      0   \n",
              "4        3          146.50      147.50                      0   \n",
              "\n",
              "   homepage_featured  num_orders  \n",
              "0                  0         177  \n",
              "1                  0         323  \n",
              "2                  0          96  \n",
              "3                  0         163  \n",
              "4                  0         215  "
            ]
          },
          "execution_count": 32,
          "metadata": {},
          "output_type": "execute_result"
        }
      ],
      "source": [
        "trainfinal.head()"
      ]
    },
    {
      "cell_type": "code",
      "execution_count": null,
      "id": "294f5f7c",
      "metadata": {
        "id": "294f5f7c",
        "outputId": "600c519b-cde7-41bb-d978-3471c2407329"
      },
      "outputs": [
        {
          "data": {
            "text/plain": [
              "(456548, 13)"
            ]
          },
          "execution_count": 33,
          "metadata": {},
          "output_type": "execute_result"
        }
      ],
      "source": [
        "trainfinal.shape"
      ]
    },
    {
      "cell_type": "markdown",
      "id": "67b40301",
      "metadata": {
        "id": "67b40301"
      },
      "source": [
        "# Data Visualisation"
      ]
    },
    {
      "cell_type": "code",
      "execution_count": null,
      "id": "4540a38b",
      "metadata": {
        "id": "4540a38b",
        "outputId": "2d687604-0f73-41d5-e0e6-5b97da293a6b"
      },
      "outputs": [
        {
          "name": "stderr",
          "output_type": "stream",
          "text": [
            "C:\\Users\\kmrug\\anaconda3\\lib\\site-packages\\seaborn\\distributions.py:2619: FutureWarning: `distplot` is a deprecated function and will be removed in a future version. Please adapt your code to use either `displot` (a figure-level function with similar flexibility) or `histplot` (an axes-level function for histograms).\n",
            "  warnings.warn(msg, FutureWarning)\n"
          ]
        },
        {
          "data": {
            "text/plain": [
              "Text(0.5, 0, 'num_orders Distribution')"
            ]
          },
          "execution_count": 34,
          "metadata": {},
          "output_type": "execute_result"
        },
        {
          "data": {
            "image/png": "[encoded data removed]",
            "text/plain": [
              "<Figure size 1200x700 with 1 Axes>"
            ]
          },
          "metadata": {},
          "output_type": "display_data"
        }
      ],
      "source": [
        "plt.style.use('fivethirtyeight')\n",
        "plt.figure(figsize=(12,7))\n",
        "sb.distplot(trainfinal.num_orders,bins=25)\n",
        "plt.xlabel(\"num_orders\")\n",
        "plt.ylabel(\"Number of Buyers\")\n",
        "plt.xlabel(\"num_orders Distribution\")"
      ]
    },
    {
      "cell_type": "code",
      "execution_count": null,
      "id": "60088b49",
      "metadata": {
        "id": "60088b49",
        "outputId": "4e724d77-0c1c-494f-c200-34dd4648ce4f"
      },
      "outputs": [
        {
          "data": {
            "text/plain": [
              "Index(['num_orders', 'homepage_featured', 'emailer_for_promotion', 'op_area',\n",
              "       'cuisine', 'city_code', 'region_code', 'category'],\n",
              "      dtype='object')"
            ]
          },
          "execution_count": 35,
          "metadata": {},
          "output_type": "execute_result"
        }
      ],
      "source": [
        "trainfinal2=trainfinal.drop(['id'],axis=1)\n",
        "correlation=trainfinal2.corr(method='pearson')\n",
        "columns=correlation.nlargest(8,'num_orders').index\n",
        "columns"
      ]
    },
    {
      "cell_type": "code",
      "execution_count": null,
      "id": "d2318746",
      "metadata": {
        "id": "d2318746",
        "outputId": "217d0119-eeb6-4ce6-b525-725dbf3d43a9"
      },
      "outputs": [
        {
          "data": {
            "image/png": "[encoded data removed]",
            "text/plain": [
              "<Figure size 640x480 with 2 Axes>"
            ]
          },
          "metadata": {},
          "output_type": "display_data"
        }
      ],
      "source": [
        "correlation_map=np.corrcoef(trainfinal[columns].values.T)\n",
        "sb.set(font_scale=1.0)\n",
        "heatmap=sb.heatmap(correlation_map, cbar=True, annot=True, square=True, fmt='.2f', yticklabels=columns.values, xticklabels=columns.values)"
      ]
    },
    {
      "cell_type": "markdown",
      "id": "f32e918b",
      "metadata": {
        "id": "f32e918b"
      },
      "source": [
        "# Splitting the dataset into Dependent and Independent variables"
      ]
    },
    {
      "cell_type": "code",
      "execution_count": null,
      "id": "de8595cc",
      "metadata": {
        "id": "de8595cc"
      },
      "outputs": [],
      "source": [
        "features=columns.drop(['num_orders'])\n",
        "trainfinal3=trainfinal[features]\n",
        "x=trainfinal3.values\n",
        "y=trainfinal['num_orders'].values"
      ]
    },
    {
      "cell_type": "code",
      "execution_count": null,
      "id": "202be098",
      "metadata": {
        "id": "202be098",
        "outputId": "369812e1-b053-44c8-bdf1-4bf18aab49d9"
      },
      "outputs": [
        {
          "data": {
            "text/html": [
              "<div>\n",
              "<style scoped>\n",
              "    .dataframe tbody tr th:only-of-type {\n",
              "        vertical-align: middle;\n",
              "    }\n",
              "\n",
              "    .dataframe tbody tr th {\n",
              "        vertical-align: top;\n",
              "    }\n",
              "\n",
              "    .dataframe thead th {\n",
              "        text-align: right;\n",
              "    }\n",
              "</style>\n",
              "<table border=\"1\" class=\"dataframe\">\n",
              "  <thead>\n",
              "    <tr style=\"text-align: right;\">\n",
              "      <th></th>\n",
              "      <th>homepage_featured</th>\n",
              "      <th>emailer_for_promotion</th>\n",
              "      <th>op_area</th>\n",
              "      <th>cuisine</th>\n",
              "      <th>city_code</th>\n",
              "      <th>region_code</th>\n",
              "      <th>category</th>\n",
              "    </tr>\n",
              "  </thead>\n",
              "  <tbody>\n",
              "    <tr>\n",
              "      <th>0</th>\n",
              "      <td>0</td>\n",
              "      <td>0</td>\n",
              "      <td>2.0</td>\n",
              "      <td>3</td>\n",
              "      <td>647</td>\n",
              "      <td>56</td>\n",
              "      <td>0</td>\n",
              "    </tr>\n",
              "    <tr>\n",
              "      <th>1</th>\n",
              "      <td>0</td>\n",
              "      <td>0</td>\n",
              "      <td>2.0</td>\n",
              "      <td>3</td>\n",
              "      <td>647</td>\n",
              "      <td>56</td>\n",
              "      <td>0</td>\n",
              "    </tr>\n",
              "    <tr>\n",
              "      <th>2</th>\n",
              "      <td>0</td>\n",
              "      <td>0</td>\n",
              "      <td>2.0</td>\n",
              "      <td>3</td>\n",
              "      <td>647</td>\n",
              "      <td>56</td>\n",
              "      <td>0</td>\n",
              "    </tr>\n",
              "    <tr>\n",
              "      <th>3</th>\n",
              "      <td>0</td>\n",
              "      <td>0</td>\n",
              "      <td>2.0</td>\n",
              "      <td>3</td>\n",
              "      <td>647</td>\n",
              "      <td>56</td>\n",
              "      <td>0</td>\n",
              "    </tr>\n",
              "    <tr>\n",
              "      <th>4</th>\n",
              "      <td>0</td>\n",
              "      <td>0</td>\n",
              "      <td>2.0</td>\n",
              "      <td>3</td>\n",
              "      <td>647</td>\n",
              "      <td>56</td>\n",
              "      <td>0</td>\n",
              "    </tr>\n",
              "  </tbody>\n",
              "</table>\n",
              "</div>"
            ],
            "text/plain": [
              "   homepage_featured  emailer_for_promotion  op_area  cuisine  city_code  \\\n",
              "0                  0                      0      2.0        3        647   \n",
              "1                  0                      0      2.0        3        647   \n",
              "2                  0                      0      2.0        3        647   \n",
              "3                  0                      0      2.0        3        647   \n",
              "4                  0                      0      2.0        3        647   \n",
              "\n",
              "   region_code  category  \n",
              "0           56         0  \n",
              "1           56         0  \n",
              "2           56         0  \n",
              "3           56         0  \n",
              "4           56         0  "
            ]
          },
          "execution_count": 39,
          "metadata": {},
          "output_type": "execute_result"
        }
      ],
      "source": [
        "trainfinal3.head()"
      ]
    },
    {
      "cell_type": "markdown",
      "id": "99c61718",
      "metadata": {
        "id": "99c61718"
      },
      "source": [
        "# Split the dataset into Train and Test set"
      ]
    },
    {
      "cell_type": "code",
      "execution_count": null,
      "id": "f85f7dfa",
      "metadata": {
        "id": "f85f7dfa"
      },
      "outputs": [],
      "source": [
        "from sklearn.model_selection import train_test_split\n",
        "x_train, x_val, y_train, y_val=train_test_split(x,y,test_size=0.25)"
      ]
    },
    {
      "cell_type": "code",
      "execution_count": null,
      "id": "186c8d4f",
      "metadata": {
        "id": "186c8d4f"
      },
      "outputs": [],
      "source": []
    }
  ],
  "metadata": {
    "kernelspec": {
      "display_name": "Python 3 (ipykernel)",
      "language": "python",
      "name": "python3"
    },
    "language_info": {
      "codemirror_mode": {
        "name": "ipython",
        "version": 3
      },
      "file_extension": ".py",
      "mimetype": "text/x-python",
      "name": "python",
      "nbconvert_exporter": "python",
      "pygments_lexer": "ipython3",
      "version": "3.9.13"
    },
    "colab": {
      "provenance": []
    }
  },
  "nbformat": 4,
  "nbformat_minor": 5
}