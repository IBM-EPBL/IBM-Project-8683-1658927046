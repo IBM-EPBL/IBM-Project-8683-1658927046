{
  "cells": [
    {
      "metadata": {
        "id": "bJ6eI4bLIpL8"
      },
      "cell_type": "markdown",
      "source": [
        "# Data Preprocessing"
      ]
    },
    {
      "metadata": {
        "id": "l-YgzjhjIpMD"
      },
      "cell_type": "markdown",
      "source": [
        "# Importing the libraries"
      ]
    },
    {
      "metadata": {
        "id": "PhstvrWtIpME"
      },
      "cell_type": "code",
      "source": [
        "import pandas as pd\n",
        "import numpy as np\n",
        "import seaborn as sb\n",
        "import matplotlib.pyplot as plt\n",
        "import sklearn as sk"
      ],
      "execution_count": null,
      "outputs": []
    },
    {
      "metadata": {
        "id": "GQ5vwwHYIpMJ"
      },
      "cell_type": "markdown",
      "source": [
        "# Reading the dataset"
      ]
    },
    {
      "metadata": {
        "id": "JP1XpBb-IpMN",
        "outputId": "56c5fa25-2e6f-4cbd-c08f-9a20af763a4c"
      },
      "cell_type": "code",
      "source": [
        "import os, types\n",
        "import pandas as pd\n",
        "from botocore.client import Config\n",
        "import ibm_boto3\n",
        "\n",
        "def __iter__(self): return 0\n",
        "\n",
        "# @hidden_cell\n",
        "# The following code accesses a file in your IBM Cloud Object Storage. It includes your credentials.\n",
        "# You might want to remove those credentials before you share the notebook.\n",
        "cos_client = ibm_boto3.client(service_name='s3',\n",
        "    ibm_api_key_id='McD53IEPQJTNi3WwC6z_6ZK0YcUo_jSBHf49KkHx-ZAj',\n",
        "    ibm_auth_endpoint=\"https://iam.cloud.ibm.com/oidc/token\",\n",
        "    config=Config(signature_version='oauth'),\n",
        "    endpoint_url='https://s3.private.us.cloud-object-storage.appdomain.cloud')\n",
        "\n",
        "bucket = 'fooddemand-donotdelete-pr-emgrpb2cxohcbt'\n",
        "object_key = 'train.csv'\n",
        "\n",
        "body = cos_client.get_object(Bucket=bucket,Key=object_key)['Body']\n",
        "# add missing __iter__ method, so pandas accepts body as file-like object\n",
        "if not hasattr(body, \"__iter__\"): body.__iter__ = types.MethodType( __iter__, body )\n",
        "\n",
        "train = pd.read_csv(body)\n",
        "train.head()\n"
      ],
      "execution_count": null,
      "outputs": [
        {
          "output_type": "execute_result",
          "execution_count": 3,
          "data": {
            "text/plain": "        id  week  center_id  meal_id  checkout_price  base_price  \\\n0  1379560     1         55     1885          136.83      152.29   \n1  1466964     1         55     1993          136.83      135.83   \n2  1346989     1         55     2539          134.86      135.86   \n3  1338232     1         55     2139          339.50      437.53   \n4  1448490     1         55     2631          243.50      242.50   \n\n   emailer_for_promotion  homepage_featured  num_orders  \n0                      0                  0         177  \n1                      0                  0         270  \n2                      0                  0         189  \n3                      0                  0          54  \n4                      0                  0          40  ",
            "text/html": "<div>\n<style scoped>\n    .dataframe tbody tr th:only-of-type {\n        vertical-align: middle;\n    }\n\n    .dataframe tbody tr th {\n        vertical-align: top;\n    }\n\n    .dataframe thead th {\n        text-align: right;\n    }\n</style>\n<table border=\"1\" class=\"dataframe\">\n  <thead>\n    <tr style=\"text-align: right;\">\n      <th></th>\n      <th>id</th>\n      <th>week</th>\n      <th>center_id</th>\n      <th>meal_id</th>\n      <th>checkout_price</th>\n      <th>base_price</th>\n      <th>emailer_for_promotion</th>\n      <th>homepage_featured</th>\n      <th>num_orders</th>\n    </tr>\n  </thead>\n  <tbody>\n    <tr>\n      <th>0</th>\n      <td>1379560</td>\n      <td>1</td>\n      <td>55</td>\n      <td>1885</td>\n      <td>136.83</td>\n      <td>152.29</td>\n      <td>0</td>\n      <td>0</td>\n      <td>177</td>\n    </tr>\n    <tr>\n      <th>1</th>\n      <td>1466964</td>\n      <td>1</td>\n      <td>55</td>\n      <td>1993</td>\n      <td>136.83</td>\n      <td>135.83</td>\n      <td>0</td>\n      <td>0</td>\n      <td>270</td>\n    </tr>\n    <tr>\n      <th>2</th>\n      <td>1346989</td>\n      <td>1</td>\n      <td>55</td>\n      <td>2539</td>\n      <td>134.86</td>\n      <td>135.86</td>\n      <td>0</td>\n      <td>0</td>\n      <td>189</td>\n    </tr>\n    <tr>\n      <th>3</th>\n      <td>1338232</td>\n      <td>1</td>\n      <td>55</td>\n      <td>2139</td>\n      <td>339.50</td>\n      <td>437.53</td>\n      <td>0</td>\n      <td>0</td>\n      <td>54</td>\n    </tr>\n    <tr>\n      <th>4</th>\n      <td>1448490</td>\n      <td>1</td>\n      <td>55</td>\n      <td>2631</td>\n      <td>243.50</td>\n      <td>242.50</td>\n      <td>0</td>\n      <td>0</td>\n      <td>40</td>\n    </tr>\n  </tbody>\n</table>\n</div>"
          },
          "metadata": {}
        }
      ]
    },
    {
      "metadata": {
        "id": "DwaRwaNpIpMR",
        "outputId": "ac66605a-9e12-448a-d209-1315037e1487"
      },
      "cell_type": "code",
      "source": [
        "import os, types\n",
        "import pandas as pd\n",
        "from botocore.client import Config\n",
        "import ibm_boto3\n",
        "\n",
        "def __iter__(self): return 0\n",
        "\n",
        "# @hidden_cell\n",
        "# The following code accesses a file in your IBM Cloud Object Storage. It includes your credentials.\n",
        "# You might want to remove those credentials before you share the notebook.\n",
        "cos_client = ibm_boto3.client(service_name='s3',\n",
        "    ibm_api_key_id='McD53IEPQJTNi3WwC6z_6ZK0YcUo_jSBHf49KkHx-ZAj',\n",
        "    ibm_auth_endpoint=\"https://iam.cloud.ibm.com/oidc/token\",\n",
        "    config=Config(signature_version='oauth'),\n",
        "    endpoint_url='https://s3.private.us.cloud-object-storage.appdomain.cloud')\n",
        "\n",
        "bucket = 'fooddemand-donotdelete-pr-emgrpb2cxohcbt'\n",
        "object_key = 'test.csv'\n",
        "\n",
        "body = cos_client.get_object(Bucket=bucket,Key=object_key)['Body']\n",
        "# add missing __iter__ method, so pandas accepts body as file-like object\n",
        "if not hasattr(body, \"__iter__\"): body.__iter__ = types.MethodType( __iter__, body )\n",
        "\n",
        "test = pd.read_csv(body)\n",
        "test.head()\n"
      ],
      "execution_count": null,
      "outputs": [
        {
          "output_type": "execute_result",
          "execution_count": 4,
          "data": {
            "text/plain": "        id  week  center_id  meal_id  checkout_price  base_price  \\\n0  1028232   146         55     1885          158.11      159.11   \n1  1127204   146         55     1993          160.11      159.11   \n2  1212707   146         55     2539          157.14      159.14   \n3  1082698   146         55     2631          162.02      162.02   \n4  1400926   146         55     1248          163.93      163.93   \n\n   emailer_for_promotion  homepage_featured  \n0                      0                  0  \n1                      0                  0  \n2                      0                  0  \n3                      0                  0  \n4                      0                  0  ",
            "text/html": "<div>\n<style scoped>\n    .dataframe tbody tr th:only-of-type {\n        vertical-align: middle;\n    }\n\n    .dataframe tbody tr th {\n        vertical-align: top;\n    }\n\n    .dataframe thead th {\n        text-align: right;\n    }\n</style>\n<table border=\"1\" class=\"dataframe\">\n  <thead>\n    <tr style=\"text-align: right;\">\n      <th></th>\n      <th>id</th>\n      <th>week</th>\n      <th>center_id</th>\n      <th>meal_id</th>\n      <th>checkout_price</th>\n      <th>base_price</th>\n      <th>emailer_for_promotion</th>\n      <th>homepage_featured</th>\n    </tr>\n  </thead>\n  <tbody>\n    <tr>\n      <th>0</th>\n      <td>1028232</td>\n      <td>146</td>\n      <td>55</td>\n      <td>1885</td>\n      <td>158.11</td>\n      <td>159.11</td>\n      <td>0</td>\n      <td>0</td>\n    </tr>\n    <tr>\n      <th>1</th>\n      <td>1127204</td>\n      <td>146</td>\n      <td>55</td>\n      <td>1993</td>\n      <td>160.11</td>\n      <td>159.11</td>\n      <td>0</td>\n      <td>0</td>\n    </tr>\n    <tr>\n      <th>2</th>\n      <td>1212707</td>\n      <td>146</td>\n      <td>55</td>\n      <td>2539</td>\n      <td>157.14</td>\n      <td>159.14</td>\n      <td>0</td>\n      <td>0</td>\n    </tr>\n    <tr>\n      <th>3</th>\n      <td>1082698</td>\n      <td>146</td>\n      <td>55</td>\n      <td>2631</td>\n      <td>162.02</td>\n      <td>162.02</td>\n      <td>0</td>\n      <td>0</td>\n    </tr>\n    <tr>\n      <th>4</th>\n      <td>1400926</td>\n      <td>146</td>\n      <td>55</td>\n      <td>1248</td>\n      <td>163.93</td>\n      <td>163.93</td>\n      <td>0</td>\n      <td>0</td>\n    </tr>\n  </tbody>\n</table>\n</div>"
          },
          "metadata": {}
        }
      ]
    },
    {
      "metadata": {
        "id": "6EaOnADSIpMS"
      },
      "cell_type": "markdown",
      "source": [
        "# Exploratory Data Analysis"
      ]
    },
    {
      "metadata": {
        "id": "rEGwN_aBIpMS",
        "outputId": "2aef4f08-dfb8-4671-a58c-eeebd1b2f96a"
      },
      "cell_type": "code",
      "source": [
        "train.head()"
      ],
      "execution_count": null,
      "outputs": [
        {
          "output_type": "execute_result",
          "execution_count": 5,
          "data": {
            "text/plain": "        id  week  center_id  meal_id  checkout_price  base_price  \\\n0  1379560     1         55     1885          136.83      152.29   \n1  1466964     1         55     1993          136.83      135.83   \n2  1346989     1         55     2539          134.86      135.86   \n3  1338232     1         55     2139          339.50      437.53   \n4  1448490     1         55     2631          243.50      242.50   \n\n   emailer_for_promotion  homepage_featured  num_orders  \n0                      0                  0         177  \n1                      0                  0         270  \n2                      0                  0         189  \n3                      0                  0          54  \n4                      0                  0          40  ",
            "text/html": "<div>\n<style scoped>\n    .dataframe tbody tr th:only-of-type {\n        vertical-align: middle;\n    }\n\n    .dataframe tbody tr th {\n        vertical-align: top;\n    }\n\n    .dataframe thead th {\n        text-align: right;\n    }\n</style>\n<table border=\"1\" class=\"dataframe\">\n  <thead>\n    <tr style=\"text-align: right;\">\n      <th></th>\n      <th>id</th>\n      <th>week</th>\n      <th>center_id</th>\n      <th>meal_id</th>\n      <th>checkout_price</th>\n      <th>base_price</th>\n      <th>emailer_for_promotion</th>\n      <th>homepage_featured</th>\n      <th>num_orders</th>\n    </tr>\n  </thead>\n  <tbody>\n    <tr>\n      <th>0</th>\n      <td>1379560</td>\n      <td>1</td>\n      <td>55</td>\n      <td>1885</td>\n      <td>136.83</td>\n      <td>152.29</td>\n      <td>0</td>\n      <td>0</td>\n      <td>177</td>\n    </tr>\n    <tr>\n      <th>1</th>\n      <td>1466964</td>\n      <td>1</td>\n      <td>55</td>\n      <td>1993</td>\n      <td>136.83</td>\n      <td>135.83</td>\n      <td>0</td>\n      <td>0</td>\n      <td>270</td>\n    </tr>\n    <tr>\n      <th>2</th>\n      <td>1346989</td>\n      <td>1</td>\n      <td>55</td>\n      <td>2539</td>\n      <td>134.86</td>\n      <td>135.86</td>\n      <td>0</td>\n      <td>0</td>\n      <td>189</td>\n    </tr>\n    <tr>\n      <th>3</th>\n      <td>1338232</td>\n      <td>1</td>\n      <td>55</td>\n      <td>2139</td>\n      <td>339.50</td>\n      <td>437.53</td>\n      <td>0</td>\n      <td>0</td>\n      <td>54</td>\n    </tr>\n    <tr>\n      <th>4</th>\n      <td>1448490</td>\n      <td>1</td>\n      <td>55</td>\n      <td>2631</td>\n      <td>243.50</td>\n      <td>242.50</td>\n      <td>0</td>\n      <td>0</td>\n      <td>40</td>\n    </tr>\n  </tbody>\n</table>\n</div>"
          },
          "metadata": {}
        }
      ]
    },
    {
      "metadata": {
        "id": "80-S2XiIIpMT",
        "outputId": "49681304-747d-415d-dbf6-75236fdba917"
      },
      "cell_type": "code",
      "source": [
        "test.head()"
      ],
      "execution_count": null,
      "outputs": [
        {
          "output_type": "execute_result",
          "execution_count": 6,
          "data": {
            "text/plain": "        id  week  center_id  meal_id  checkout_price  base_price  \\\n0  1028232   146         55     1885          158.11      159.11   \n1  1127204   146         55     1993          160.11      159.11   \n2  1212707   146         55     2539          157.14      159.14   \n3  1082698   146         55     2631          162.02      162.02   \n4  1400926   146         55     1248          163.93      163.93   \n\n   emailer_for_promotion  homepage_featured  \n0                      0                  0  \n1                      0                  0  \n2                      0                  0  \n3                      0                  0  \n4                      0                  0  ",
            "text/html": "<div>\n<style scoped>\n    .dataframe tbody tr th:only-of-type {\n        vertical-align: middle;\n    }\n\n    .dataframe tbody tr th {\n        vertical-align: top;\n    }\n\n    .dataframe thead th {\n        text-align: right;\n    }\n</style>\n<table border=\"1\" class=\"dataframe\">\n  <thead>\n    <tr style=\"text-align: right;\">\n      <th></th>\n      <th>id</th>\n      <th>week</th>\n      <th>center_id</th>\n      <th>meal_id</th>\n      <th>checkout_price</th>\n      <th>base_price</th>\n      <th>emailer_for_promotion</th>\n      <th>homepage_featured</th>\n    </tr>\n  </thead>\n  <tbody>\n    <tr>\n      <th>0</th>\n      <td>1028232</td>\n      <td>146</td>\n      <td>55</td>\n      <td>1885</td>\n      <td>158.11</td>\n      <td>159.11</td>\n      <td>0</td>\n      <td>0</td>\n    </tr>\n    <tr>\n      <th>1</th>\n      <td>1127204</td>\n      <td>146</td>\n      <td>55</td>\n      <td>1993</td>\n      <td>160.11</td>\n      <td>159.11</td>\n      <td>0</td>\n      <td>0</td>\n    </tr>\n    <tr>\n      <th>2</th>\n      <td>1212707</td>\n      <td>146</td>\n      <td>55</td>\n      <td>2539</td>\n      <td>157.14</td>\n      <td>159.14</td>\n      <td>0</td>\n      <td>0</td>\n    </tr>\n    <tr>\n      <th>3</th>\n      <td>1082698</td>\n      <td>146</td>\n      <td>55</td>\n      <td>2631</td>\n      <td>162.02</td>\n      <td>162.02</td>\n      <td>0</td>\n      <td>0</td>\n    </tr>\n    <tr>\n      <th>4</th>\n      <td>1400926</td>\n      <td>146</td>\n      <td>55</td>\n      <td>1248</td>\n      <td>163.93</td>\n      <td>163.93</td>\n      <td>0</td>\n      <td>0</td>\n    </tr>\n  </tbody>\n</table>\n</div>"
          },
          "metadata": {}
        }
      ]
    },
    {
      "metadata": {
        "id": "dJW1K91mIpMU",
        "outputId": "33875b2f-d5d3-4967-c4f2-cb99fab30cb8"
      },
      "cell_type": "code",
      "source": [
        "train.info()"
      ],
      "execution_count": null,
      "outputs": [
        {
          "output_type": "stream",
          "text": "<class 'pandas.core.frame.DataFrame'>\nRangeIndex: 456548 entries, 0 to 456547\nData columns (total 9 columns):\n #   Column                 Non-Null Count   Dtype  \n---  ------                 --------------   -----  \n 0   id                     456548 non-null  int64  \n 1   week                   456548 non-null  int64  \n 2   center_id              456548 non-null  int64  \n 3   meal_id                456548 non-null  int64  \n 4   checkout_price         456548 non-null  float64\n 5   base_price             456548 non-null  float64\n 6   emailer_for_promotion  456548 non-null  int64  \n 7   homepage_featured      456548 non-null  int64  \n 8   num_orders             456548 non-null  int64  \ndtypes: float64(2), int64(7)\nmemory usage: 31.3 MB\n",
          "name": "stdout"
        }
      ]
    },
    {
      "metadata": {
        "id": "hGTcOh_BIpMV",
        "outputId": "f133afa3-b294-42ff-b906-9662f427b415"
      },
      "cell_type": "code",
      "source": [
        "train['num_orders'].describe()"
      ],
      "execution_count": null,
      "outputs": [
        {
          "output_type": "execute_result",
          "execution_count": 8,
          "data": {
            "text/plain": "count    456548.000000\nmean        261.872760\nstd         395.922798\nmin          13.000000\n25%          54.000000\n50%         136.000000\n75%         324.000000\nmax       24299.000000\nName: num_orders, dtype: float64"
          },
          "metadata": {}
        }
      ]
    },
    {
      "metadata": {
        "id": "XSkvnMvQIpMW"
      },
      "cell_type": "markdown",
      "source": [
        "# Checking for Null Values"
      ]
    },
    {
      "metadata": {
        "id": "Bl88g8xdIpMZ",
        "outputId": "db8de9c7-13e9-43b8-ff0b-312cea4b8b67"
      },
      "cell_type": "code",
      "source": [
        "train.isnull().sum()"
      ],
      "execution_count": null,
      "outputs": [
        {
          "output_type": "execute_result",
          "execution_count": 9,
          "data": {
            "text/plain": "id                       0\nweek                     0\ncenter_id                0\nmeal_id                  0\ncheckout_price           0\nbase_price               0\nemailer_for_promotion    0\nhomepage_featured        0\nnum_orders               0\ndtype: int64"
          },
          "metadata": {}
        }
      ]
    },
    {
      "metadata": {
        "id": "O-_LL1d2IpMa"
      },
      "cell_type": "markdown",
      "source": [
        "# Reading and Merging .csv files"
      ]
    },
    {
      "metadata": {
        "id": "cCpbzpRLIpMa",
        "outputId": "91d32e17-fec4-4772-ae1b-e774974c1780"
      },
      "cell_type": "code",
      "source": [
        "import os, types\n",
        "import pandas as pd\n",
        "from botocore.client import Config\n",
        "import ibm_boto3\n",
        "\n",
        "def __iter__(self): return 0\n",
        "\n",
        "# @hidden_cell\n",
        "# The following code accesses a file in your IBM Cloud Object Storage. It includes your credentials.\n",
        "# You might want to remove those credentials before you share the notebook.\n",
        "cos_client = ibm_boto3.client(service_name='s3',\n",
        "    ibm_api_key_id='McD53IEPQJTNi3WwC6z_6ZK0YcUo_jSBHf49KkHx-ZAj',\n",
        "    ibm_auth_endpoint=\"https://iam.cloud.ibm.com/oidc/token\",\n",
        "    config=Config(signature_version='oauth'),\n",
        "    endpoint_url='https://s3.private.us.cloud-object-storage.appdomain.cloud')\n",
        "\n",
        "bucket = 'fooddemand-donotdelete-pr-emgrpb2cxohcbt'\n",
        "object_key = 'meal_info.csv'\n",
        "\n",
        "body = cos_client.get_object(Bucket=bucket,Key=object_key)['Body']\n",
        "# add missing __iter__ method, so pandas accepts body as file-like object\n",
        "if not hasattr(body, \"__iter__\"): body.__iter__ = types.MethodType( __iter__, body )\n",
        "\n",
        "meal_info = pd.read_csv(body)\n",
        "meal_info.head()\n"
      ],
      "execution_count": null,
      "outputs": [
        {
          "output_type": "execute_result",
          "execution_count": 10,
          "data": {
            "text/plain": "   meal_id   category cuisine\n0     1885  Beverages    Thai\n1     1993  Beverages    Thai\n2     2539  Beverages    Thai\n3     1248  Beverages  Indian\n4     2631  Beverages  Indian",
            "text/html": "<div>\n<style scoped>\n    .dataframe tbody tr th:only-of-type {\n        vertical-align: middle;\n    }\n\n    .dataframe tbody tr th {\n        vertical-align: top;\n    }\n\n    .dataframe thead th {\n        text-align: right;\n    }\n</style>\n<table border=\"1\" class=\"dataframe\">\n  <thead>\n    <tr style=\"text-align: right;\">\n      <th></th>\n      <th>meal_id</th>\n      <th>category</th>\n      <th>cuisine</th>\n    </tr>\n  </thead>\n  <tbody>\n    <tr>\n      <th>0</th>\n      <td>1885</td>\n      <td>Beverages</td>\n      <td>Thai</td>\n    </tr>\n    <tr>\n      <th>1</th>\n      <td>1993</td>\n      <td>Beverages</td>\n      <td>Thai</td>\n    </tr>\n    <tr>\n      <th>2</th>\n      <td>2539</td>\n      <td>Beverages</td>\n      <td>Thai</td>\n    </tr>\n    <tr>\n      <th>3</th>\n      <td>1248</td>\n      <td>Beverages</td>\n      <td>Indian</td>\n    </tr>\n    <tr>\n      <th>4</th>\n      <td>2631</td>\n      <td>Beverages</td>\n      <td>Indian</td>\n    </tr>\n  </tbody>\n</table>\n</div>"
          },
          "metadata": {}
        }
      ]
    },
    {
      "metadata": {
        "id": "j-YdArm2IpMc",
        "outputId": "2c8f5c55-204b-4d49-ffbd-1f527e82c7ff"
      },
      "cell_type": "code",
      "source": [
        "import os, types\n",
        "import pandas as pd\n",
        "from botocore.client import Config\n",
        "import ibm_boto3\n",
        "\n",
        "def __iter__(self): return 0\n",
        "\n",
        "# @hidden_cell\n",
        "# The following code accesses a file in your IBM Cloud Object Storage. It includes your credentials.\n",
        "# You might want to remove those credentials before you share the notebook.\n",
        "cos_client = ibm_boto3.client(service_name='s3',\n",
        "    ibm_api_key_id='McD53IEPQJTNi3WwC6z_6ZK0YcUo_jSBHf49KkHx-ZAj',\n",
        "    ibm_auth_endpoint=\"https://iam.cloud.ibm.com/oidc/token\",\n",
        "    config=Config(signature_version='oauth'),\n",
        "    endpoint_url='https://s3.private.us.cloud-object-storage.appdomain.cloud')\n",
        "\n",
        "bucket = 'fooddemand-donotdelete-pr-emgrpb2cxohcbt'\n",
        "object_key = 'fullfilment_center_info.csv'\n",
        "\n",
        "body = cos_client.get_object(Bucket=bucket,Key=object_key)['Body']\n",
        "# add missing __iter__ method, so pandas accepts body as file-like object\n",
        "if not hasattr(body, \"__iter__\"): body.__iter__ = types.MethodType( __iter__, body )\n",
        "\n",
        "center_info = pd.read_csv(body)\n",
        "center_info.head()\n"
      ],
      "execution_count": null,
      "outputs": [
        {
          "output_type": "execute_result",
          "execution_count": 11,
          "data": {
            "text/plain": "   center_id  city_code  region_code center_type  op_area\n0         11        679           56      TYPE_A      3.7\n1         13        590           56      TYPE_B      6.7\n2        124        590           56      TYPE_C      4.0\n3         66        648           34      TYPE_A      4.1\n4         94        632           34      TYPE_C      3.6",
            "text/html": "<div>\n<style scoped>\n    .dataframe tbody tr th:only-of-type {\n        vertical-align: middle;\n    }\n\n    .dataframe tbody tr th {\n        vertical-align: top;\n    }\n\n    .dataframe thead th {\n        text-align: right;\n    }\n</style>\n<table border=\"1\" class=\"dataframe\">\n  <thead>\n    <tr style=\"text-align: right;\">\n      <th></th>\n      <th>center_id</th>\n      <th>city_code</th>\n      <th>region_code</th>\n      <th>center_type</th>\n      <th>op_area</th>\n    </tr>\n  </thead>\n  <tbody>\n    <tr>\n      <th>0</th>\n      <td>11</td>\n      <td>679</td>\n      <td>56</td>\n      <td>TYPE_A</td>\n      <td>3.7</td>\n    </tr>\n    <tr>\n      <th>1</th>\n      <td>13</td>\n      <td>590</td>\n      <td>56</td>\n      <td>TYPE_B</td>\n      <td>6.7</td>\n    </tr>\n    <tr>\n      <th>2</th>\n      <td>124</td>\n      <td>590</td>\n      <td>56</td>\n      <td>TYPE_C</td>\n      <td>4.0</td>\n    </tr>\n    <tr>\n      <th>3</th>\n      <td>66</td>\n      <td>648</td>\n      <td>34</td>\n      <td>TYPE_A</td>\n      <td>4.1</td>\n    </tr>\n    <tr>\n      <th>4</th>\n      <td>94</td>\n      <td>632</td>\n      <td>34</td>\n      <td>TYPE_C</td>\n      <td>3.6</td>\n    </tr>\n  </tbody>\n</table>\n</div>"
          },
          "metadata": {}
        }
      ]
    },
    {
      "metadata": {
        "id": "jeY8hCL9IpMd"
      },
      "cell_type": "code",
      "source": [
        "trainfinal = pd.merge(train, meal_info, on=\"meal_id\", how=\"outer\")\n",
        "trainfinal = pd.merge(trainfinal, center_info, on=\"center_id\", how=\"outer\")"
      ],
      "execution_count": null,
      "outputs": []
    },
    {
      "metadata": {
        "id": "3vm188bgIpMe",
        "outputId": "250f33be-d96a-456b-a5e9-f35119059cae"
      },
      "cell_type": "code",
      "source": [
        "trainfinal.head()"
      ],
      "execution_count": null,
      "outputs": [
        {
          "output_type": "execute_result",
          "execution_count": 13,
          "data": {
            "text/plain": "        id  week  center_id  meal_id  checkout_price  base_price  \\\n0  1379560     1         55     1885          136.83      152.29   \n1  1018704     2         55     1885          135.83      152.29   \n2  1196273     3         55     1885          132.92      133.92   \n3  1116527     4         55     1885          135.86      134.86   \n4  1343872     5         55     1885          146.50      147.50   \n\n   emailer_for_promotion  homepage_featured  num_orders   category cuisine  \\\n0                      0                  0         177  Beverages    Thai   \n1                      0                  0         323  Beverages    Thai   \n2                      0                  0          96  Beverages    Thai   \n3                      0                  0         163  Beverages    Thai   \n4                      0                  0         215  Beverages    Thai   \n\n   city_code  region_code center_type  op_area  \n0        647           56      TYPE_C      2.0  \n1        647           56      TYPE_C      2.0  \n2        647           56      TYPE_C      2.0  \n3        647           56      TYPE_C      2.0  \n4        647           56      TYPE_C      2.0  ",
            "text/html": "<div>\n<style scoped>\n    .dataframe tbody tr th:only-of-type {\n        vertical-align: middle;\n    }\n\n    .dataframe tbody tr th {\n        vertical-align: top;\n    }\n\n    .dataframe thead th {\n        text-align: right;\n    }\n</style>\n<table border=\"1\" class=\"dataframe\">\n  <thead>\n    <tr style=\"text-align: right;\">\n      <th></th>\n      <th>id</th>\n      <th>week</th>\n      <th>center_id</th>\n      <th>meal_id</th>\n      <th>checkout_price</th>\n      <th>base_price</th>\n      <th>emailer_for_promotion</th>\n      <th>homepage_featured</th>\n      <th>num_orders</th>\n      <th>category</th>\n      <th>cuisine</th>\n      <th>city_code</th>\n      <th>region_code</th>\n      <th>center_type</th>\n      <th>op_area</th>\n    </tr>\n  </thead>\n  <tbody>\n    <tr>\n      <th>0</th>\n      <td>1379560</td>\n      <td>1</td>\n      <td>55</td>\n      <td>1885</td>\n      <td>136.83</td>\n      <td>152.29</td>\n      <td>0</td>\n      <td>0</td>\n      <td>177</td>\n      <td>Beverages</td>\n      <td>Thai</td>\n      <td>647</td>\n      <td>56</td>\n      <td>TYPE_C</td>\n      <td>2.0</td>\n    </tr>\n    <tr>\n      <th>1</th>\n      <td>1018704</td>\n      <td>2</td>\n      <td>55</td>\n      <td>1885</td>\n      <td>135.83</td>\n      <td>152.29</td>\n      <td>0</td>\n      <td>0</td>\n      <td>323</td>\n      <td>Beverages</td>\n      <td>Thai</td>\n      <td>647</td>\n      <td>56</td>\n      <td>TYPE_C</td>\n      <td>2.0</td>\n    </tr>\n    <tr>\n      <th>2</th>\n      <td>1196273</td>\n      <td>3</td>\n      <td>55</td>\n      <td>1885</td>\n      <td>132.92</td>\n      <td>133.92</td>\n      <td>0</td>\n      <td>0</td>\n      <td>96</td>\n      <td>Beverages</td>\n      <td>Thai</td>\n      <td>647</td>\n      <td>56</td>\n      <td>TYPE_C</td>\n      <td>2.0</td>\n    </tr>\n    <tr>\n      <th>3</th>\n      <td>1116527</td>\n      <td>4</td>\n      <td>55</td>\n      <td>1885</td>\n      <td>135.86</td>\n      <td>134.86</td>\n      <td>0</td>\n      <td>0</td>\n      <td>163</td>\n      <td>Beverages</td>\n      <td>Thai</td>\n      <td>647</td>\n      <td>56</td>\n      <td>TYPE_C</td>\n      <td>2.0</td>\n    </tr>\n    <tr>\n      <th>4</th>\n      <td>1343872</td>\n      <td>5</td>\n      <td>55</td>\n      <td>1885</td>\n      <td>146.50</td>\n      <td>147.50</td>\n      <td>0</td>\n      <td>0</td>\n      <td>215</td>\n      <td>Beverages</td>\n      <td>Thai</td>\n      <td>647</td>\n      <td>56</td>\n      <td>TYPE_C</td>\n      <td>2.0</td>\n    </tr>\n  </tbody>\n</table>\n</div>"
          },
          "metadata": {}
        }
      ]
    },
    {
      "metadata": {
        "id": "3_HGlOJIIpMf"
      },
      "cell_type": "markdown",
      "source": [
        "# Dropping Columns"
      ]
    },
    {
      "metadata": {
        "id": "hn7ey2IAIpMg",
        "outputId": "83805d8c-4da1-4741-cae5-bf3a22a47322"
      },
      "cell_type": "code",
      "source": [
        "trainfinal=trainfinal.drop(['center_id','meal_id'],axis=1)\n",
        "trainfinal.head()"
      ],
      "execution_count": null,
      "outputs": [
        {
          "output_type": "execute_result",
          "execution_count": 14,
          "data": {
            "text/plain": "        id  week  checkout_price  base_price  emailer_for_promotion  \\\n0  1379560     1          136.83      152.29                      0   \n1  1018704     2          135.83      152.29                      0   \n2  1196273     3          132.92      133.92                      0   \n3  1116527     4          135.86      134.86                      0   \n4  1343872     5          146.50      147.50                      0   \n\n   homepage_featured  num_orders   category cuisine  city_code  region_code  \\\n0                  0         177  Beverages    Thai        647           56   \n1                  0         323  Beverages    Thai        647           56   \n2                  0          96  Beverages    Thai        647           56   \n3                  0         163  Beverages    Thai        647           56   \n4                  0         215  Beverages    Thai        647           56   \n\n  center_type  op_area  \n0      TYPE_C      2.0  \n1      TYPE_C      2.0  \n2      TYPE_C      2.0  \n3      TYPE_C      2.0  \n4      TYPE_C      2.0  ",
            "text/html": "<div>\n<style scoped>\n    .dataframe tbody tr th:only-of-type {\n        vertical-align: middle;\n    }\n\n    .dataframe tbody tr th {\n        vertical-align: top;\n    }\n\n    .dataframe thead th {\n        text-align: right;\n    }\n</style>\n<table border=\"1\" class=\"dataframe\">\n  <thead>\n    <tr style=\"text-align: right;\">\n      <th></th>\n      <th>id</th>\n      <th>week</th>\n      <th>checkout_price</th>\n      <th>base_price</th>\n      <th>emailer_for_promotion</th>\n      <th>homepage_featured</th>\n      <th>num_orders</th>\n      <th>category</th>\n      <th>cuisine</th>\n      <th>city_code</th>\n      <th>region_code</th>\n      <th>center_type</th>\n      <th>op_area</th>\n    </tr>\n  </thead>\n  <tbody>\n    <tr>\n      <th>0</th>\n      <td>1379560</td>\n      <td>1</td>\n      <td>136.83</td>\n      <td>152.29</td>\n      <td>0</td>\n      <td>0</td>\n      <td>177</td>\n      <td>Beverages</td>\n      <td>Thai</td>\n      <td>647</td>\n      <td>56</td>\n      <td>TYPE_C</td>\n      <td>2.0</td>\n    </tr>\n    <tr>\n      <th>1</th>\n      <td>1018704</td>\n      <td>2</td>\n      <td>135.83</td>\n      <td>152.29</td>\n      <td>0</td>\n      <td>0</td>\n      <td>323</td>\n      <td>Beverages</td>\n      <td>Thai</td>\n      <td>647</td>\n      <td>56</td>\n      <td>TYPE_C</td>\n      <td>2.0</td>\n    </tr>\n    <tr>\n      <th>2</th>\n      <td>1196273</td>\n      <td>3</td>\n      <td>132.92</td>\n      <td>133.92</td>\n      <td>0</td>\n      <td>0</td>\n      <td>96</td>\n      <td>Beverages</td>\n      <td>Thai</td>\n      <td>647</td>\n      <td>56</td>\n      <td>TYPE_C</td>\n      <td>2.0</td>\n    </tr>\n    <tr>\n      <th>3</th>\n      <td>1116527</td>\n      <td>4</td>\n      <td>135.86</td>\n      <td>134.86</td>\n      <td>0</td>\n      <td>0</td>\n      <td>163</td>\n      <td>Beverages</td>\n      <td>Thai</td>\n      <td>647</td>\n      <td>56</td>\n      <td>TYPE_C</td>\n      <td>2.0</td>\n    </tr>\n    <tr>\n      <th>4</th>\n      <td>1343872</td>\n      <td>5</td>\n      <td>146.50</td>\n      <td>147.50</td>\n      <td>0</td>\n      <td>0</td>\n      <td>215</td>\n      <td>Beverages</td>\n      <td>Thai</td>\n      <td>647</td>\n      <td>56</td>\n      <td>TYPE_C</td>\n      <td>2.0</td>\n    </tr>\n  </tbody>\n</table>\n</div>"
          },
          "metadata": {}
        }
      ]
    },
    {
      "metadata": {
        "id": "bvpPbAbyIpMh",
        "outputId": "baf3ec04-78f3-4d9b-9070-747b449a3756"
      },
      "cell_type": "code",
      "source": [
        "cols=trainfinal.columns.tolist()\n",
        "print(cols)"
      ],
      "execution_count": null,
      "outputs": [
        {
          "output_type": "stream",
          "text": "['id', 'week', 'checkout_price', 'base_price', 'emailer_for_promotion', 'homepage_featured', 'num_orders', 'category', 'cuisine', 'city_code', 'region_code', 'center_type', 'op_area']\n",
          "name": "stdout"
        }
      ]
    },
    {
      "metadata": {
        "id": "WJPAdqpiIpMl",
        "outputId": "42f85bca-e35d-48c8-ce12-fcc0eb32788e"
      },
      "cell_type": "code",
      "source": [
        "cols=cols[:2]+cols[9:]+cols[7:9]+cols[2:7]\n",
        "print(cols)"
      ],
      "execution_count": null,
      "outputs": [
        {
          "output_type": "stream",
          "text": "['id', 'week', 'city_code', 'region_code', 'center_type', 'op_area', 'category', 'cuisine', 'checkout_price', 'base_price', 'emailer_for_promotion', 'homepage_featured', 'num_orders']\n",
          "name": "stdout"
        }
      ]
    },
    {
      "metadata": {
        "id": "1-CF-vQIIpMo"
      },
      "cell_type": "code",
      "source": [
        "trainfinal=trainfinal[cols]"
      ],
      "execution_count": null,
      "outputs": []
    },
    {
      "metadata": {
        "id": "e-L2MmSPIpMo",
        "outputId": "a49c6ecf-00ca-4b6c-bacd-dc544cccaaca"
      },
      "cell_type": "code",
      "source": [
        "trainfinal.dtypes"
      ],
      "execution_count": null,
      "outputs": [
        {
          "output_type": "execute_result",
          "execution_count": 18,
          "data": {
            "text/plain": "id                         int64\nweek                       int64\ncity_code                  int64\nregion_code                int64\ncenter_type               object\nop_area                  float64\ncategory                  object\ncuisine                   object\ncheckout_price           float64\nbase_price               float64\nemailer_for_promotion      int64\nhomepage_featured          int64\nnum_orders                 int64\ndtype: object"
          },
          "metadata": {}
        }
      ]
    },
    {
      "metadata": {
        "id": "EqUrpjw7IpMq"
      },
      "cell_type": "markdown",
      "source": [
        "# Label Encoding"
      ]
    },
    {
      "metadata": {
        "id": "4LSsRJcNIpMq"
      },
      "cell_type": "code",
      "source": [
        "from sklearn.preprocessing import LabelEncoder"
      ],
      "execution_count": null,
      "outputs": []
    },
    {
      "metadata": {
        "id": "H3zA_ofVIpMr"
      },
      "cell_type": "code",
      "source": [
        "lb1=LabelEncoder()\n",
        "trainfinal['center_type']=lb1.fit_transform(trainfinal['center_type'])\n",
        "lb2=LabelEncoder()\n",
        "trainfinal['category']=lb1.fit_transform(trainfinal['category'])\n",
        "lb1=LabelEncoder()\n",
        "trainfinal['cuisine']=lb1.fit_transform(trainfinal['cuisine'])"
      ],
      "execution_count": null,
      "outputs": []
    },
    {
      "metadata": {
        "id": "VurLqFwgIpMr",
        "outputId": "334b9e69-28d7-4102-b173-3f6a22b9820e"
      },
      "cell_type": "code",
      "source": [
        "trainfinal.head()"
      ],
      "execution_count": null,
      "outputs": [
        {
          "output_type": "execute_result",
          "execution_count": 21,
          "data": {
            "text/plain": "        id  week  city_code  region_code  center_type  op_area  category  \\\n0  1379560     1        647           56            2      2.0         0   \n1  1018704     2        647           56            2      2.0         0   \n2  1196273     3        647           56            2      2.0         0   \n3  1116527     4        647           56            2      2.0         0   \n4  1343872     5        647           56            2      2.0         0   \n\n   cuisine  checkout_price  base_price  emailer_for_promotion  \\\n0        3          136.83      152.29                      0   \n1        3          135.83      152.29                      0   \n2        3          132.92      133.92                      0   \n3        3          135.86      134.86                      0   \n4        3          146.50      147.50                      0   \n\n   homepage_featured  num_orders  \n0                  0         177  \n1                  0         323  \n2                  0          96  \n3                  0         163  \n4                  0         215  ",
            "text/html": "<div>\n<style scoped>\n    .dataframe tbody tr th:only-of-type {\n        vertical-align: middle;\n    }\n\n    .dataframe tbody tr th {\n        vertical-align: top;\n    }\n\n    .dataframe thead th {\n        text-align: right;\n    }\n</style>\n<table border=\"1\" class=\"dataframe\">\n  <thead>\n    <tr style=\"text-align: right;\">\n      <th></th>\n      <th>id</th>\n      <th>week</th>\n      <th>city_code</th>\n      <th>region_code</th>\n      <th>center_type</th>\n      <th>op_area</th>\n      <th>category</th>\n      <th>cuisine</th>\n      <th>checkout_price</th>\n      <th>base_price</th>\n      <th>emailer_for_promotion</th>\n      <th>homepage_featured</th>\n      <th>num_orders</th>\n    </tr>\n  </thead>\n  <tbody>\n    <tr>\n      <th>0</th>\n      <td>1379560</td>\n      <td>1</td>\n      <td>647</td>\n      <td>56</td>\n      <td>2</td>\n      <td>2.0</td>\n      <td>0</td>\n      <td>3</td>\n      <td>136.83</td>\n      <td>152.29</td>\n      <td>0</td>\n      <td>0</td>\n      <td>177</td>\n    </tr>\n    <tr>\n      <th>1</th>\n      <td>1018704</td>\n      <td>2</td>\n      <td>647</td>\n      <td>56</td>\n      <td>2</td>\n      <td>2.0</td>\n      <td>0</td>\n      <td>3</td>\n      <td>135.83</td>\n      <td>152.29</td>\n      <td>0</td>\n      <td>0</td>\n      <td>323</td>\n    </tr>\n    <tr>\n      <th>2</th>\n      <td>1196273</td>\n      <td>3</td>\n      <td>647</td>\n      <td>56</td>\n      <td>2</td>\n      <td>2.0</td>\n      <td>0</td>\n      <td>3</td>\n      <td>132.92</td>\n      <td>133.92</td>\n      <td>0</td>\n      <td>0</td>\n      <td>96</td>\n    </tr>\n    <tr>\n      <th>3</th>\n      <td>1116527</td>\n      <td>4</td>\n      <td>647</td>\n      <td>56</td>\n      <td>2</td>\n      <td>2.0</td>\n      <td>0</td>\n      <td>3</td>\n      <td>135.86</td>\n      <td>134.86</td>\n      <td>0</td>\n      <td>0</td>\n      <td>163</td>\n    </tr>\n    <tr>\n      <th>4</th>\n      <td>1343872</td>\n      <td>5</td>\n      <td>647</td>\n      <td>56</td>\n      <td>2</td>\n      <td>2.0</td>\n      <td>0</td>\n      <td>3</td>\n      <td>146.50</td>\n      <td>147.50</td>\n      <td>0</td>\n      <td>0</td>\n      <td>215</td>\n    </tr>\n  </tbody>\n</table>\n</div>"
          },
          "metadata": {}
        }
      ]
    },
    {
      "metadata": {
        "id": "pf8zwg9TIpMx",
        "outputId": "47bb25d7-d246-4d42-ea01-991a064acc95"
      },
      "cell_type": "code",
      "source": [
        "trainfinal.shape"
      ],
      "execution_count": null,
      "outputs": [
        {
          "output_type": "execute_result",
          "execution_count": 22,
          "data": {
            "text/plain": "(456548, 13)"
          },
          "metadata": {}
        }
      ]
    },
    {
      "metadata": {
        "id": "a6kaZUY0IpM5"
      },
      "cell_type": "markdown",
      "source": [
        "# Data Visualisation"
      ]
    },
    {
      "metadata": {
        "id": "cBiG70NJIpM5",
        "outputId": "4822e9e1-b697-456b-c688-b1c9a5c65be8"
      },
      "cell_type": "code",
      "source": [
        "plt.style.use('fivethirtyeight')\n",
        "plt.figure(figsize=(12,7))\n",
        "sb.distplot(trainfinal.num_orders,bins=25)\n",
        "plt.xlabel(\"num_orders\")\n",
        "plt.ylabel(\"Number of Buyers\")\n",
        "plt.xlabel(\"num_orders Distribution\")"
      ],
      "execution_count": null,
      "outputs": [
        {
          "output_type": "stream",
          "text": "/opt/conda/envs/Python-3.9/lib/python3.9/site-packages/seaborn/distributions.py:2619: FutureWarning: `distplot` is a deprecated function and will be removed in a future version. Please adapt your code to use either `displot` (a figure-level function with similar flexibility) or `histplot` (an axes-level function for histograms).\n  warnings.warn(msg, FutureWarning)\n",
          "name": "stderr"
        },
        {
          "output_type": "execute_result",
          "execution_count": 23,
          "data": {
            "text/plain": "Text(0.5, 0, 'num_orders Distribution')"
          },
          "metadata": {}
        },
        {
          "output_type": "display_data",
          "data": {
            "text/plain": "<Figure size 864x504 with 1 Axes>",
            "image/png": "[encoded data removed]"
          },
          "metadata": {}
        }
      ]
    },
    {
      "metadata": {
        "id": "AlVUt7mDIpM6",
        "outputId": "8ee25f82-5bb7-46d7-fb8a-ff481735d90b"
      },
      "cell_type": "code",
      "source": [
        "trainfinal2=trainfinal.drop(['id'],axis=1)\n",
        "correlation=trainfinal2.corr(method='pearson')\n",
        "columns=correlation.nlargest(8,'num_orders').index\n",
        "columns"
      ],
      "execution_count": null,
      "outputs": [
        {
          "output_type": "execute_result",
          "execution_count": 24,
          "data": {
            "text/plain": "Index(['num_orders', 'homepage_featured', 'emailer_for_promotion', 'op_area',\n       'cuisine', 'city_code', 'region_code', 'category'],\n      dtype='object')"
          },
          "metadata": {}
        }
      ]
    },
    {
      "metadata": {
        "id": "bwVIbHdtIpM7",
        "outputId": "faadc1da-0697-45af-f8a5-e85aff8094c6"
      },
      "cell_type": "code",
      "source": [
        "correlation_map=np.corrcoef(trainfinal[columns].values.T)\n",
        "sb.set(font_scale=1.0)\n",
        "heatmap=sb.heatmap(correlation_map, cbar=True, annot=True, square=True, fmt='.2f', yticklabels=columns.values, xticklabels=columns.values)"
      ],
      "execution_count": null,
      "outputs": [
        {
          "output_type": "display_data",
          "data": {
            "text/plain": "<Figure size 432x288 with 2 Axes>",
            "image/png": "[encoded data removed]"
          },
          "metadata": {}
        }
      ]
    },
    {
      "metadata": {
        "id": "kr1t0K_EIpM9"
      },
      "cell_type": "markdown",
      "source": [
        "# Splitting the dataset into Dependent and Independent variables"
      ]
    },
    {
      "metadata": {
        "id": "s1pb5fmUIpM-"
      },
      "cell_type": "code",
      "source": [
        "features=columns.drop(['num_orders'])\n",
        "trainfinal3=trainfinal[features]\n",
        "x=trainfinal3.values\n",
        "y=trainfinal['num_orders'].values"
      ],
      "execution_count": null,
      "outputs": []
    },
    {
      "metadata": {
        "id": "71KFM76WIpM_",
        "outputId": "087dc863-6b6b-416d-eac0-f0f967166325"
      },
      "cell_type": "code",
      "source": [
        "trainfinal3.head()"
      ],
      "execution_count": null,
      "outputs": [
        {
          "output_type": "execute_result",
          "execution_count": 27,
          "data": {
            "text/plain": "   homepage_featured  emailer_for_promotion  op_area  cuisine  city_code  \\\n0                  0                      0      2.0        3        647   \n1                  0                      0      2.0        3        647   \n2                  0                      0      2.0        3        647   \n3                  0                      0      2.0        3        647   \n4                  0                      0      2.0        3        647   \n\n   region_code  category  \n0           56         0  \n1           56         0  \n2           56         0  \n3           56         0  \n4           56         0  ",
            "text/html": "<div>\n<style scoped>\n    .dataframe tbody tr th:only-of-type {\n        vertical-align: middle;\n    }\n\n    .dataframe tbody tr th {\n        vertical-align: top;\n    }\n\n    .dataframe thead th {\n        text-align: right;\n    }\n</style>\n<table border=\"1\" class=\"dataframe\">\n  <thead>\n    <tr style=\"text-align: right;\">\n      <th></th>\n      <th>homepage_featured</th>\n      <th>emailer_for_promotion</th>\n      <th>op_area</th>\n      <th>cuisine</th>\n      <th>city_code</th>\n      <th>region_code</th>\n      <th>category</th>\n    </tr>\n  </thead>\n  <tbody>\n    <tr>\n      <th>0</th>\n      <td>0</td>\n      <td>0</td>\n      <td>2.0</td>\n      <td>3</td>\n      <td>647</td>\n      <td>56</td>\n      <td>0</td>\n    </tr>\n    <tr>\n      <th>1</th>\n      <td>0</td>\n      <td>0</td>\n      <td>2.0</td>\n      <td>3</td>\n      <td>647</td>\n      <td>56</td>\n      <td>0</td>\n    </tr>\n    <tr>\n      <th>2</th>\n      <td>0</td>\n      <td>0</td>\n      <td>2.0</td>\n      <td>3</td>\n      <td>647</td>\n      <td>56</td>\n      <td>0</td>\n    </tr>\n    <tr>\n      <th>3</th>\n      <td>0</td>\n      <td>0</td>\n      <td>2.0</td>\n      <td>3</td>\n      <td>647</td>\n      <td>56</td>\n      <td>0</td>\n    </tr>\n    <tr>\n      <th>4</th>\n      <td>0</td>\n      <td>0</td>\n      <td>2.0</td>\n      <td>3</td>\n      <td>647</td>\n      <td>56</td>\n      <td>0</td>\n    </tr>\n  </tbody>\n</table>\n</div>"
          },
          "metadata": {}
        }
      ]
    },
    {
      "metadata": {
        "id": "1kIWOxUrIpNA"
      },
      "cell_type": "markdown",
      "source": [
        "# Split the Dataset into Train and Test Set"
      ]
    },
    {
      "metadata": {
        "id": "-YyzBythIpNB"
      },
      "cell_type": "code",
      "source": [
        "from sklearn.model_selection import train_test_split\n",
        "x_train, x_val, y_train, y_val=train_test_split(x,y,test_size=0.25)"
      ],
      "execution_count": null,
      "outputs": []
    },
    {
      "metadata": {
        "id": "jeeDUei0IpNC"
      },
      "cell_type": "markdown",
      "source": [
        "# Model Building"
      ]
    },
    {
      "metadata": {
        "id": "kemUgoMKIpNC"
      },
      "cell_type": "markdown",
      "source": [
        "# Train and Test Model Algorithms"
      ]
    },
    {
      "metadata": {
        "id": "rVg6YIsiIpNC"
      },
      "cell_type": "code",
      "source": [
        "from sklearn.linear_model import LinearRegression\n",
        "from sklearn.linear_model import Lasso\n",
        "from sklearn.linear_model import ElasticNet\n",
        "from sklearn.tree import DecisionTreeRegressor\n",
        "from sklearn.neighbors import KNeighborsRegressor\n",
        "from sklearn.ensemble import GradientBoostingRegressor"
      ],
      "execution_count": null,
      "outputs": []
    },
    {
      "metadata": {
        "id": "1Zxl7S_KIpND"
      },
      "cell_type": "markdown",
      "source": [
        "# Model Evaluation"
      ]
    },
    {
      "metadata": {
        "id": "mMLFEkOkIpNE",
        "outputId": "609dc7e6-0313-444b-f5ad-02842db9a085"
      },
      "cell_type": "code",
      "source": [
        "LR = LinearRegression()\n",
        "LR.fit(x_train,y_train)\n",
        "y_pred = LR.predict(x_val)\n",
        "y_pred[y_pred<0]=0\n",
        "from sklearn import metrics\n",
        "print('RMSLE:',100*np.sqrt(metrics.mean_squared_log_error(y_val,y_pred)))\n"
      ],
      "execution_count": null,
      "outputs": [
        {
          "output_type": "stream",
          "text": "RMSLE: 129.5723936037847\n",
          "name": "stdout"
        }
      ]
    },
    {
      "metadata": {
        "id": "lRzdBCW0IpNE",
        "outputId": "97a8c4ec-f128-4b2e-c040-9f535b4d6aac"
      },
      "cell_type": "code",
      "source": [
        "L=Lasso()\n",
        "L.fit(x_train,y_train)\n",
        "y_pred=LR.predict(x_val)\n",
        "y_pred[y_pred<0]=0\n",
        "from sklearn import metrics\n",
        "print('RMSLE:',100*np.sqrt(metrics.mean_squared_log_error(y_val,y_pred)))"
      ],
      "execution_count": null,
      "outputs": [
        {
          "output_type": "stream",
          "text": "RMSLE: 129.5723936037847\n",
          "name": "stdout"
        }
      ]
    },
    {
      "metadata": {
        "id": "7ofFUJdjIpNF",
        "outputId": "ecc395ae-8c9a-4512-9279-6ccf33980d0d"
      },
      "cell_type": "code",
      "source": [
        "EN=ElasticNet()\n",
        "EN.fit(x_train,y_train)\n",
        "y_pred=EN.predict(x_val)\n",
        "y_pred[y_pred<0]=0\n",
        "from sklearn import metrics\n",
        "print('RMSLE:',100*np.sqrt(metrics.mean_squared_log_error(y_val,y_pred)))"
      ],
      "execution_count": null,
      "outputs": [
        {
          "output_type": "stream",
          "text": "RMSLE: 131.12068225848745\n",
          "name": "stdout"
        }
      ]
    },
    {
      "metadata": {
        "id": "efLUUe2vIpNG",
        "outputId": "ed8c08b1-4784-4c57-b213-1ed75645d95f"
      },
      "cell_type": "code",
      "source": [
        "DT=DecisionTreeRegressor()\n",
        "DT.fit(x_train,y_train)\n",
        "y_pred=DT.predict(x_val)\n",
        "y_pred[y_pred<0]=0\n",
        "from sklearn import metrics\n",
        "print('RMSLE:',100*np.sqrt(metrics.mean_squared_log_error(y_val,y_pred)))"
      ],
      "execution_count": null,
      "outputs": [
        {
          "output_type": "stream",
          "text": "RMSLE: 62.700386370025655\n",
          "name": "stdout"
        }
      ]
    },
    {
      "metadata": {
        "id": "YNNc8Ph8IpNH",
        "outputId": "6246cd4a-d4ec-48a8-b24d-776003ed8bfa"
      },
      "cell_type": "code",
      "source": [
        "KNN=KNeighborsRegressor()\n",
        "KNN.fit(x_train,y_train)\n",
        "y_pred=KNN.predict(x_val)\n",
        "y_pred[y_pred<0]=0\n",
        "from sklearn import metrics\n",
        "print('RMSLE:',100*np.sqrt(metrics.mean_squared_log_error(y_val,y_pred)))"
      ],
      "execution_count": null,
      "outputs": [
        {
          "output_type": "stream",
          "text": "RMSLE: 66.56747187516704\n",
          "name": "stdout"
        }
      ]
    },
    {
      "metadata": {
        "id": "q_sjZbmoIpNH",
        "outputId": "4bc1479a-960d-4e63-b2da-ffc67ec09dcf"
      },
      "cell_type": "code",
      "source": [
        "GB=GradientBoostingRegressor()\n",
        "GB.fit(x_train,y_train)\n",
        "y_pred=GB.predict(x_val)\n",
        "y_pred[y_pred<0]=0\n",
        "from sklearn import metrics\n",
        "print('RMSLE:',100*np.sqrt(metrics.mean_squared_log_error(y_val,y_pred)))"
      ],
      "execution_count": null,
      "outputs": [
        {
          "output_type": "stream",
          "text": "RMSLE: 99.01566808277748\n",
          "name": "stdout"
        }
      ]
    },
    {
      "metadata": {
        "id": "ZTo9dbmfIpNJ"
      },
      "cell_type": "markdown",
      "source": [
        "# Predicting the output using the model"
      ]
    },
    {
      "metadata": {
        "id": "HPlOCsNOIpNJ"
      },
      "cell_type": "code",
      "source": [
        "testfinal=pd.merge(test,meal_info, on=\"meal_id\", how=\"outer\")\n",
        "testfinal=pd.merge(testfinal, center_info, on=\"center_id\", how=\"outer\")\n",
        "testfinal=testfinal.drop(['meal_id','center_id'],axis=1)\n",
        "tcols=testfinal.columns.tolist()\n",
        "tcols=tcols[:2]+tcols[8:]+tcols[6:8]+tcols[2:6]\n",
        "testfinal=testfinal[tcols]\n",
        "lb1=LabelEncoder()\n",
        "testfinal['center_type']=lb1.fit_transform(testfinal['center_type'])\n",
        "lb2=LabelEncoder()\n",
        "testfinal['category']=lb1.fit_transform(testfinal['category'])\n",
        "lb1=LabelEncoder()\n",
        "testfinal['cuisine']=lb1.fit_transform(testfinal['cuisine'])\n",
        "x_test=testfinal[features].values"
      ],
      "execution_count": null,
      "outputs": []
    },
    {
      "metadata": {
        "id": "PaDkQtOpIpNK"
      },
      "cell_type": "code",
      "source": [
        "pred=DT.predict(x_test)\n",
        "pred[pred<0]=0\n",
        "submit=pd.DataFrame({'id':testfinal['id'],'num_orders':pred})"
      ],
      "execution_count": null,
      "outputs": []
    },
    {
      "metadata": {
        "id": "Bf9bRCUcIpNM",
        "outputId": "29fa1a11-48b8-426b-ac15-362a902c8aae"
      },
      "cell_type": "code",
      "source": [
        "submit.to_csv(\"submission.csv\",index=False)\n",
        "submit.describe()"
      ],
      "execution_count": null,
      "outputs": [
        {
          "output_type": "execute_result",
          "execution_count": 38,
          "data": {
            "text/plain": "                 id    num_orders\ncount  3.257300e+04  32573.000000\nmean   1.248476e+06    262.932038\nstd    1.441580e+05    363.197680\nmin    1.000085e+06     15.187500\n25%    1.123969e+06     64.142857\n50%    1.247296e+06    148.340206\n75%    1.372971e+06    323.500000\nmax    1.499996e+06   5419.909091",
            "text/html": "<div>\n<style scoped>\n    .dataframe tbody tr th:only-of-type {\n        vertical-align: middle;\n    }\n\n    .dataframe tbody tr th {\n        vertical-align: top;\n    }\n\n    .dataframe thead th {\n        text-align: right;\n    }\n</style>\n<table border=\"1\" class=\"dataframe\">\n  <thead>\n    <tr style=\"text-align: right;\">\n      <th></th>\n      <th>id</th>\n      <th>num_orders</th>\n    </tr>\n  </thead>\n  <tbody>\n    <tr>\n      <th>count</th>\n      <td>3.257300e+04</td>\n      <td>32573.000000</td>\n    </tr>\n    <tr>\n      <th>mean</th>\n      <td>1.248476e+06</td>\n      <td>262.932038</td>\n    </tr>\n    <tr>\n      <th>std</th>\n      <td>1.441580e+05</td>\n      <td>363.197680</td>\n    </tr>\n    <tr>\n      <th>min</th>\n      <td>1.000085e+06</td>\n      <td>15.187500</td>\n    </tr>\n    <tr>\n      <th>25%</th>\n      <td>1.123969e+06</td>\n      <td>64.142857</td>\n    </tr>\n    <tr>\n      <th>50%</th>\n      <td>1.247296e+06</td>\n      <td>148.340206</td>\n    </tr>\n    <tr>\n      <th>75%</th>\n      <td>1.372971e+06</td>\n      <td>323.500000</td>\n    </tr>\n    <tr>\n      <th>max</th>\n      <td>1.499996e+06</td>\n      <td>5419.909091</td>\n    </tr>\n  </tbody>\n</table>\n</div>"
          },
          "metadata": {}
        }
      ]
    },
    {
      "metadata": {
        "id": "SZz8W5lXIpNN"
      },
      "cell_type": "markdown",
      "source": [
        "# Save the Model"
      ]
    },
    {
      "metadata": {
        "id": "yy31vlcwIpNN",
        "outputId": "82e83749-4dc1-480d-d2e3-4306b5533963"
      },
      "cell_type": "code",
      "source": [
        "!pip install -U ibm_watson_machine_learning"
      ],
      "execution_count": null,
      "outputs": [
        {
          "output_type": "stream",
          "text": "Requirement already satisfied: ibm_watson_machine_learning in /opt/conda/envs/Python-3.9/lib/python3.9/site-packages (1.0.257)\nRequirement already satisfied: certifi in /opt/conda/envs/Python-3.9/lib/python3.9/site-packages (from ibm_watson_machine_learning) (2022.9.24)\nRequirement already satisfied: pandas<1.5.0,>=0.24.2 in /opt/conda/envs/Python-3.9/lib/python3.9/site-packages (from ibm_watson_machine_learning) (1.3.4)\nRequirement already satisfied: importlib-metadata in /opt/conda/envs/Python-3.9/lib/python3.9/site-packages (from ibm_watson_machine_learning) (4.8.2)\nRequirement already satisfied: ibm-cos-sdk==2.11.* in /opt/conda/envs/Python-3.9/lib/python3.9/site-packages (from ibm_watson_machine_learning) (2.11.0)\nRequirement already satisfied: lomond in /opt/conda/envs/Python-3.9/lib/python3.9/site-packages (from ibm_watson_machine_learning) (0.3.3)\nRequirement already satisfied: tabulate in /opt/conda/envs/Python-3.9/lib/python3.9/site-packages (from ibm_watson_machine_learning) (0.8.9)\nRequirement already satisfied: packaging in /opt/conda/envs/Python-3.9/lib/python3.9/site-packages (from ibm_watson_machine_learning) (21.3)\nRequirement already satisfied: requests in /opt/conda/envs/Python-3.9/lib/python3.9/site-packages (from ibm_watson_machine_learning) (2.26.0)\nRequirement already satisfied: urllib3 in /opt/conda/envs/Python-3.9/lib/python3.9/site-packages (from ibm_watson_machine_learning) (1.26.7)\nRequirement already satisfied: jmespath<1.0.0,>=0.7.1 in /opt/conda/envs/Python-3.9/lib/python3.9/site-packages (from ibm-cos-sdk==2.11.*->ibm_watson_machine_learning) (0.10.0)\nRequirement already satisfied: ibm-cos-sdk-core==2.11.0 in /opt/conda/envs/Python-3.9/lib/python3.9/site-packages (from ibm-cos-sdk==2.11.*->ibm_watson_machine_learning) (2.11.0)\nRequirement already satisfied: ibm-cos-sdk-s3transfer==2.11.0 in /opt/conda/envs/Python-3.9/lib/python3.9/site-packages (from ibm-cos-sdk==2.11.*->ibm_watson_machine_learning) (2.11.0)\nRequirement already satisfied: python-dateutil<3.0.0,>=2.1 in /opt/conda/envs/Python-3.9/lib/python3.9/site-packages (from ibm-cos-sdk-core==2.11.0->ibm-cos-sdk==2.11.*->ibm_watson_machine_learning) (2.8.2)\nRequirement already satisfied: pytz>=2017.3 in /opt/conda/envs/Python-3.9/lib/python3.9/site-packages (from pandas<1.5.0,>=0.24.2->ibm_watson_machine_learning) (2021.3)\nRequirement already satisfied: numpy>=1.17.3 in /opt/conda/envs/Python-3.9/lib/python3.9/site-packages (from pandas<1.5.0,>=0.24.2->ibm_watson_machine_learning) (1.20.3)\nRequirement already satisfied: six>=1.5 in /opt/conda/envs/Python-3.9/lib/python3.9/site-packages (from python-dateutil<3.0.0,>=2.1->ibm-cos-sdk-core==2.11.0->ibm-cos-sdk==2.11.*->ibm_watson_machine_learning) (1.15.0)\nRequirement already satisfied: idna<4,>=2.5 in /opt/conda/envs/Python-3.9/lib/python3.9/site-packages (from requests->ibm_watson_machine_learning) (3.3)\nRequirement already satisfied: charset-normalizer~=2.0.0 in /opt/conda/envs/Python-3.9/lib/python3.9/site-packages (from requests->ibm_watson_machine_learning) (2.0.4)\nRequirement already satisfied: zipp>=0.5 in /opt/conda/envs/Python-3.9/lib/python3.9/site-packages (from importlib-metadata->ibm_watson_machine_learning) (3.6.0)\nRequirement already satisfied: pyparsing!=3.0.5,>=2.0.2 in /opt/conda/envs/Python-3.9/lib/python3.9/site-packages (from packaging->ibm_watson_machine_learning) (3.0.4)\n",
          "name": "stdout"
        }
      ]
    },
    {
      "metadata": {
        "id": "reQwsHmlIpNO"
      },
      "cell_type": "code",
      "source": [
        "from ibm_watson_machine_learning import APIClient"
      ],
      "execution_count": null,
      "outputs": []
    },
    {
      "metadata": {
        "id": "7ArtiAj6IpNP"
      },
      "cell_type": "code",
      "source": [
        "wml_credential={\n",
        "    \"url\":\"https://us-south.ml.cloud.ibm.com\",\n",
        "    \"apikey\":\"V0FedIvcsn9vpDN7cIG2cmB8T8zpenX6vPs8tufhqE6b\"\n",
        "}\n",
        "client = Wml_client=APIClient(wml_credential)"
      ],
      "execution_count": null,
      "outputs": []
    },
    {
      "metadata": {
        "id": "LMl2xr9AIpNP"
      },
      "cell_type": "code",
      "source": [
        "def guid_from_space_name(client, space_name):\n",
        "    space=client.spaces.get_details()\n",
        "    return(next(item for item in space['resources'] if item['entity']['name'] == space_name)['metadata']['id'])"
      ],
      "execution_count": null,
      "outputs": []
    },
    {
      "metadata": {
        "id": "l8Ka4PL3IpNP",
        "outputId": "e5a2b39b-236d-40b4-8d2f-df7b15193c4a"
      },
      "cell_type": "code",
      "source": [
        "space_uid = guid_from_space_name(client, 'Model')\n",
        "print(\"Space UID = \"+space_uid)"
      ],
      "execution_count": null,
      "outputs": [
        {
          "output_type": "stream",
          "text": "Space UID = 25ef9db4-4be8-416c-9e40-9d488f6db27e\n",
          "name": "stdout"
        }
      ]
    },
    {
      "metadata": {
        "id": "xdDs9X9GIpNQ",
        "outputId": "a87f9df9-7228-49fd-cb6b-27a1ee8981f0"
      },
      "cell_type": "code",
      "source": [
        "Wml_client.set.default_space(space_uid)"
      ],
      "execution_count": null,
      "outputs": [
        {
          "output_type": "execute_result",
          "execution_count": 45,
          "data": {
            "text/plain": "'SUCCESS'"
          },
          "metadata": {}
        }
      ]
    },
    {
      "metadata": {
        "id": "9XmlD-z8IpNR",
        "outputId": "af4482ad-2051-4f9f-fbcc-a0ecc47e69a8"
      },
      "cell_type": "code",
      "source": [
        "client.software_specifications.list()"
      ],
      "execution_count": null,
      "outputs": [
        {
          "output_type": "stream",
          "text": "-----------------------------  ------------------------------------  ----\nNAME                           ASSET_ID                              TYPE\ndefault_py3.6                  0062b8c9-8b7d-44a0-a9b9-46c416adcbd9  base\nkernel-spark3.2-scala2.12      020d69ce-7ac1-5e68-ac1a-31189867356a  base\npytorch-onnx_1.3-py3.7-edt     069ea134-3346-5748-b513-49120e15d288  base\nscikit-learn_0.20-py3.6        09c5a1d0-9c1e-4473-a344-eb7b665ff687  base\nspark-mllib_3.0-scala_2.12     09f4cff0-90a7-5899-b9ed-1ef348aebdee  base\npytorch-onnx_rt22.1-py3.9      0b848dd4-e681-5599-be41-b5f6fccc6471  base\nai-function_0.1-py3.6          0cdb0f1e-5376-4f4d-92dd-da3b69aa9bda  base\nshiny-r3.6                     0e6e79df-875e-4f24-8ae9-62dcc2148306  base\ntensorflow_2.4-py3.7-horovod   1092590a-307d-563d-9b62-4eb7d64b3f22  base\npytorch_1.1-py3.6              10ac12d6-6b30-4ccd-8392-3e922c096a92  base\ntensorflow_1.15-py3.6-ddl      111e41b3-de2d-5422-a4d6-bf776828c4b7  base\nautoai-kb_rt22.2-py3.10        125b6d9a-5b1f-5e8d-972a-b251688ccf40  base\nruntime-22.1-py3.9             12b83a17-24d8-5082-900f-0ab31fbfd3cb  base\nscikit-learn_0.22-py3.6        154010fa-5b3b-4ac1-82af-4d5ee5abbc85  base\ndefault_r3.6                   1b70aec3-ab34-4b87-8aa0-a4a3c8296a36  base\npytorch-onnx_1.3-py3.6         1bc6029a-cc97-56da-b8e0-39c3880dbbe7  base\nkernel-spark3.3-r3.6           1c9e5454-f216-59dd-a20e-474a5cdf5988  base\npytorch-onnx_rt22.1-py3.9-edt  1d362186-7ad5-5b59-8b6c-9d0880bde37f  base\ntensorflow_2.1-py3.6           1eb25b84-d6ed-5dde-b6a5-3fbdf1665666  base\nspark-mllib_3.2                20047f72-0a98-58c7-9ff5-a77b012eb8f5  base\ntensorflow_2.4-py3.8-horovod   217c16f6-178f-56bf-824a-b19f20564c49  base\nruntime-22.1-py3.9-cuda        26215f05-08c3-5a41-a1b0-da66306ce658  base\ndo_py3.8                       295addb5-9ef9-547e-9bf4-92ae3563e720  base\nautoai-ts_3.8-py3.8            2aa0c932-798f-5ae9-abd6-15e0c2402fb5  base\ntensorflow_1.15-py3.6          2b73a275-7cbf-420b-a912-eae7f436e0bc  base\nkernel-spark3.3-py3.9          2b7961e2-e3b1-5a8c-a491-482c8368839a  base\npytorch_1.2-py3.6              2c8ef57d-2687-4b7d-acce-01f94976dac1  base\nspark-mllib_2.3                2e51f700-bca0-4b0d-88dc-5c6791338875  base\npytorch-onnx_1.1-py3.6-edt     32983cea-3f32-4400-8965-dde874a8d67e  base\nspark-mllib_3.0-py37           36507ebe-8770-55ba-ab2a-eafe787600e9  base\nspark-mllib_2.4                390d21f8-e58b-4fac-9c55-d7ceda621326  base\nautoai-ts_rt22.2-py3.10        396b2e83-0953-5b86-9a55-7ce1628a406f  base\nxgboost_0.82-py3.6             39e31acd-5f30-41dc-ae44-60233c80306e  base\npytorch-onnx_1.2-py3.6-edt     40589d0e-7019-4e28-8daa-fb03b6f4fe12  base\npytorch-onnx_rt22.2-py3.10     40e73f55-783a-5535-b3fa-0c8b94291431  base\ndefault_r36py38                41c247d3-45f8-5a71-b065-8580229facf0  base\nautoai-ts_rt22.1-py3.9         4269d26e-07ba-5d40-8f66-2d495b0c71f7  base\nautoai-obm_3.0                 42b92e18-d9ab-567f-988a-4240ba1ed5f7  base\npmml-3.0_4.3                   493bcb95-16f1-5bc5-bee8-81b8af80e9c7  base\nspark-mllib_2.4-r_3.6          49403dff-92e9-4c87-a3d7-a42d0021c095  base\nxgboost_0.90-py3.6             4ff8d6c2-1343-4c18-85e1-689c965304d3  base\npytorch-onnx_1.1-py3.6         50f95b2a-bc16-43bb-bc94-b0bed208c60b  base\nautoai-ts_3.9-py3.8            52c57136-80fa-572e-8728-a5e7cbb42cde  base\nspark-mllib_2.4-scala_2.11     55a70f99-7320-4be5-9fb9-9edb5a443af5  base\nspark-mllib_3.0                5c1b0ca2-4977-5c2e-9439-ffd44ea8ffe9  base\nautoai-obm_2.0                 5c2e37fa-80b8-5e77-840f-d912469614ee  base\nspss-modeler_18.1              5c3cad7e-507f-4b2a-a9a3-ab53a21dee8b  base\ncuda-py3.8                     5d3232bf-c86b-5df4-a2cd-7bb870a1cd4e  base\nautoai-kb_3.1-py3.7            632d4b22-10aa-5180-88f0-f52dfb6444d7  base\npytorch-onnx_1.7-py3.8         634d3cdc-b562-5bf9-a2d4-ea90a478456b  base\n-----------------------------  ------------------------------------  ----\nNote: Only first 50 records were displayed. To display more use 'limit' parameter.\n",
          "name": "stdout"
        }
      ]
    },
    {
      "metadata": {
        "id": "UB_lr7_YIpNR",
        "outputId": "18bd693c-d7c3-4f36-f63c-4ae55f4f5dbc"
      },
      "cell_type": "code",
      "source": [
        "software_spec_uid=client.software_specifications.get_uid_by_name(\"runtime-22.1-py3.9\")\n",
        "software_spec_uid"
      ],
      "execution_count": null,
      "outputs": [
        {
          "output_type": "execute_result",
          "execution_count": 47,
          "data": {
            "text/plain": "'12b83a17-24d8-5082-900f-0ab31fbfd3cb'"
          },
          "metadata": {}
        }
      ]
    },
    {
      "metadata": {
        "id": "vNTWcsluIpNS"
      },
      "cell_type": "code",
      "source": [
        "model_details=client.repository.store_model(model=EN,meta_props={\n",
        "    client.repository.ModelMetaNames.NAME:\"food\",\n",
        "    client.repository.ModelMetaNames.TYPE:\"scikit-learn_1.0\",\n",
        "    client.repository.ModelMetaNames.SOFTWARE_SPEC_UID:software_spec_uid })\n",
        "\n",
        "model_id=client.repository.get_model_id(model_details)"
      ],
      "execution_count": null,
      "outputs": []
    },
    {
      "metadata": {
        "id": "SdmrnnyQIpNS",
        "outputId": "2a6c1d94-37da-4de1-8e32-e9c846478193"
      },
      "cell_type": "code",
      "source": [
        "model_id"
      ],
      "execution_count": null,
      "outputs": [
        {
          "output_type": "execute_result",
          "execution_count": 51,
          "data": {
            "text/plain": "'e63cd348-f01a-4255-bfb5-05e3d6ab84af'"
          },
          "metadata": {}
        }
      ]
    },
    {
      "metadata": {
        "id": "PyoYeiWeIpNT"
      },
      "cell_type": "code",
      "source": [],
      "execution_count": null,
      "outputs": []
    }
  ],
  "metadata": {
    "kernelspec": {
      "name": "python3",
      "display_name": "Python 3.9",
      "language": "python"
    },
    "language_info": {
      "name": "python",
      "version": "3.9.13",
      "mimetype": "text/x-python",
      "codemirror_mode": {
        "name": "ipython",
        "version": 3
      },
      "pygments_lexer": "ipython3",
      "nbconvert_exporter": "python",
      "file_extension": ".py"
    },
    "colab": {
      "provenance": []
    }
  },
  "nbformat": 4,
  "nbformat_minor": 0
}