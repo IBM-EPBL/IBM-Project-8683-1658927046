{
  "cells": [
    {
      "cell_type": "markdown",
      "metadata": {
        "id": "KDhxQ0SVsJm-"
      },
      "source": [
        "# Data Preprocessing"
      ]
    },
    {
      "cell_type": "markdown",
      "metadata": {
        "id": "OQLtnyzfsJnD"
      },
      "source": [
        "# Importing the libraries"
      ]
    },
    {
      "cell_type": "code",
      "execution_count": null,
      "metadata": {
        "id": "XQxq17GDsJnF"
      },
      "outputs": [],
      "source": [
        "import pandas as pd\n",
        "import numpy as np\n",
        "import seaborn as sb\n",
        "import matplotlib.pyplot as plt\n",
        "import sklearn as sk"
      ]
    },
    {
      "cell_type": "markdown",
      "metadata": {
        "id": "9NVmh4rYsJnH"
      },
      "source": [
        "# Reading the dataset"
      ]
    },
    {
      "cell_type": "code",
      "execution_count": null,
      "metadata": {
        "id": "emL93rndsJnH"
      },
      "outputs": [],
      "source": [
        "train = pd.read_csv(\"train.csv\")\n",
        "test = pd.read_csv(\"test.csv\")"
      ]
    },
    {
      "cell_type": "markdown",
      "metadata": {
        "id": "Qk2tC9kfsJnI"
      },
      "source": [
        "# Exploratory Data Analysis"
      ]
    },
    {
      "cell_type": "code",
      "execution_count": null,
      "metadata": {
        "id": "st7NjGC5sJnJ",
        "outputId": "d0dbafb0-11a6-4f4e-cd2f-860ae7b152ee"
      },
      "outputs": [
        {
          "data": {
            "text/html": [
              "<div>\n",
              "<style scoped>\n",
              "    .dataframe tbody tr th:only-of-type {\n",
              "        vertical-align: middle;\n",
              "    }\n",
              "\n",
              "    .dataframe tbody tr th {\n",
              "        vertical-align: top;\n",
              "    }\n",
              "\n",
              "    .dataframe thead th {\n",
              "        text-align: right;\n",
              "    }\n",
              "</style>\n",
              "<table border=\"1\" class=\"dataframe\">\n",
              "  <thead>\n",
              "    <tr style=\"text-align: right;\">\n",
              "      <th></th>\n",
              "      <th>id</th>\n",
              "      <th>week</th>\n",
              "      <th>center_id</th>\n",
              "      <th>meal_id</th>\n",
              "      <th>checkout_price</th>\n",
              "      <th>base_price</th>\n",
              "      <th>emailer_for_promotion</th>\n",
              "      <th>homepage_featured</th>\n",
              "      <th>num_orders</th>\n",
              "    </tr>\n",
              "  </thead>\n",
              "  <tbody>\n",
              "    <tr>\n",
              "      <th>0</th>\n",
              "      <td>1379560</td>\n",
              "      <td>1</td>\n",
              "      <td>55</td>\n",
              "      <td>1885</td>\n",
              "      <td>136.83</td>\n",
              "      <td>152.29</td>\n",
              "      <td>0</td>\n",
              "      <td>0</td>\n",
              "      <td>177</td>\n",
              "    </tr>\n",
              "    <tr>\n",
              "      <th>1</th>\n",
              "      <td>1466964</td>\n",
              "      <td>1</td>\n",
              "      <td>55</td>\n",
              "      <td>1993</td>\n",
              "      <td>136.83</td>\n",
              "      <td>135.83</td>\n",
              "      <td>0</td>\n",
              "      <td>0</td>\n",
              "      <td>270</td>\n",
              "    </tr>\n",
              "    <tr>\n",
              "      <th>2</th>\n",
              "      <td>1346989</td>\n",
              "      <td>1</td>\n",
              "      <td>55</td>\n",
              "      <td>2539</td>\n",
              "      <td>134.86</td>\n",
              "      <td>135.86</td>\n",
              "      <td>0</td>\n",
              "      <td>0</td>\n",
              "      <td>189</td>\n",
              "    </tr>\n",
              "    <tr>\n",
              "      <th>3</th>\n",
              "      <td>1338232</td>\n",
              "      <td>1</td>\n",
              "      <td>55</td>\n",
              "      <td>2139</td>\n",
              "      <td>339.50</td>\n",
              "      <td>437.53</td>\n",
              "      <td>0</td>\n",
              "      <td>0</td>\n",
              "      <td>54</td>\n",
              "    </tr>\n",
              "    <tr>\n",
              "      <th>4</th>\n",
              "      <td>1448490</td>\n",
              "      <td>1</td>\n",
              "      <td>55</td>\n",
              "      <td>2631</td>\n",
              "      <td>243.50</td>\n",
              "      <td>242.50</td>\n",
              "      <td>0</td>\n",
              "      <td>0</td>\n",
              "      <td>40</td>\n",
              "    </tr>\n",
              "  </tbody>\n",
              "</table>\n",
              "</div>"
            ],
            "text/plain": [
              "        id  week  center_id  meal_id  checkout_price  base_price  \\\n",
              "0  1379560     1         55     1885          136.83      152.29   \n",
              "1  1466964     1         55     1993          136.83      135.83   \n",
              "2  1346989     1         55     2539          134.86      135.86   \n",
              "3  1338232     1         55     2139          339.50      437.53   \n",
              "4  1448490     1         55     2631          243.50      242.50   \n",
              "\n",
              "   emailer_for_promotion  homepage_featured  num_orders  \n",
              "0                      0                  0         177  \n",
              "1                      0                  0         270  \n",
              "2                      0                  0         189  \n",
              "3                      0                  0          54  \n",
              "4                      0                  0          40  "
            ]
          },
          "execution_count": 32,
          "metadata": {},
          "output_type": "execute_result"
        }
      ],
      "source": [
        "train.head()"
      ]
    },
    {
      "cell_type": "code",
      "execution_count": null,
      "metadata": {
        "id": "lViHKrwUsJnL",
        "outputId": "cb4a13e0-25de-48ce-a1da-0c8ea11e2af7"
      },
      "outputs": [
        {
          "data": {
            "text/html": [
              "<div>\n",
              "<style scoped>\n",
              "    .dataframe tbody tr th:only-of-type {\n",
              "        vertical-align: middle;\n",
              "    }\n",
              "\n",
              "    .dataframe tbody tr th {\n",
              "        vertical-align: top;\n",
              "    }\n",
              "\n",
              "    .dataframe thead th {\n",
              "        text-align: right;\n",
              "    }\n",
              "</style>\n",
              "<table border=\"1\" class=\"dataframe\">\n",
              "  <thead>\n",
              "    <tr style=\"text-align: right;\">\n",
              "      <th></th>\n",
              "      <th>id</th>\n",
              "      <th>week</th>\n",
              "      <th>center_id</th>\n",
              "      <th>meal_id</th>\n",
              "      <th>checkout_price</th>\n",
              "      <th>base_price</th>\n",
              "      <th>emailer_for_promotion</th>\n",
              "      <th>homepage_featured</th>\n",
              "    </tr>\n",
              "  </thead>\n",
              "  <tbody>\n",
              "    <tr>\n",
              "      <th>0</th>\n",
              "      <td>1028232</td>\n",
              "      <td>146</td>\n",
              "      <td>55</td>\n",
              "      <td>1885</td>\n",
              "      <td>158.11</td>\n",
              "      <td>159.11</td>\n",
              "      <td>0</td>\n",
              "      <td>0</td>\n",
              "    </tr>\n",
              "    <tr>\n",
              "      <th>1</th>\n",
              "      <td>1127204</td>\n",
              "      <td>146</td>\n",
              "      <td>55</td>\n",
              "      <td>1993</td>\n",
              "      <td>160.11</td>\n",
              "      <td>159.11</td>\n",
              "      <td>0</td>\n",
              "      <td>0</td>\n",
              "    </tr>\n",
              "    <tr>\n",
              "      <th>2</th>\n",
              "      <td>1212707</td>\n",
              "      <td>146</td>\n",
              "      <td>55</td>\n",
              "      <td>2539</td>\n",
              "      <td>157.14</td>\n",
              "      <td>159.14</td>\n",
              "      <td>0</td>\n",
              "      <td>0</td>\n",
              "    </tr>\n",
              "    <tr>\n",
              "      <th>3</th>\n",
              "      <td>1082698</td>\n",
              "      <td>146</td>\n",
              "      <td>55</td>\n",
              "      <td>2631</td>\n",
              "      <td>162.02</td>\n",
              "      <td>162.02</td>\n",
              "      <td>0</td>\n",
              "      <td>0</td>\n",
              "    </tr>\n",
              "    <tr>\n",
              "      <th>4</th>\n",
              "      <td>1400926</td>\n",
              "      <td>146</td>\n",
              "      <td>55</td>\n",
              "      <td>1248</td>\n",
              "      <td>163.93</td>\n",
              "      <td>163.93</td>\n",
              "      <td>0</td>\n",
              "      <td>0</td>\n",
              "    </tr>\n",
              "  </tbody>\n",
              "</table>\n",
              "</div>"
            ],
            "text/plain": [
              "        id  week  center_id  meal_id  checkout_price  base_price  \\\n",
              "0  1028232   146         55     1885          158.11      159.11   \n",
              "1  1127204   146         55     1993          160.11      159.11   \n",
              "2  1212707   146         55     2539          157.14      159.14   \n",
              "3  1082698   146         55     2631          162.02      162.02   \n",
              "4  1400926   146         55     1248          163.93      163.93   \n",
              "\n",
              "   emailer_for_promotion  homepage_featured  \n",
              "0                      0                  0  \n",
              "1                      0                  0  \n",
              "2                      0                  0  \n",
              "3                      0                  0  \n",
              "4                      0                  0  "
            ]
          },
          "execution_count": 33,
          "metadata": {},
          "output_type": "execute_result"
        }
      ],
      "source": [
        "test.head()"
      ]
    },
    {
      "cell_type": "code",
      "execution_count": null,
      "metadata": {
        "id": "xjqGuVfcsJnM",
        "outputId": "f13e493e-63cb-498c-8c9e-a033d1ba9ecd"
      },
      "outputs": [
        {
          "name": "stdout",
          "output_type": "stream",
          "text": [
            "<class 'pandas.core.frame.DataFrame'>\n",
            "RangeIndex: 456548 entries, 0 to 456547\n",
            "Data columns (total 9 columns):\n",
            " #   Column                 Non-Null Count   Dtype  \n",
            "---  ------                 --------------   -----  \n",
            " 0   id                     456548 non-null  int64  \n",
            " 1   week                   456548 non-null  int64  \n",
            " 2   center_id              456548 non-null  int64  \n",
            " 3   meal_id                456548 non-null  int64  \n",
            " 4   checkout_price         456548 non-null  float64\n",
            " 5   base_price             456548 non-null  float64\n",
            " 6   emailer_for_promotion  456548 non-null  int64  \n",
            " 7   homepage_featured      456548 non-null  int64  \n",
            " 8   num_orders             456548 non-null  int64  \n",
            "dtypes: float64(2), int64(7)\n",
            "memory usage: 31.3 MB\n"
          ]
        }
      ],
      "source": [
        "train.info()"
      ]
    },
    {
      "cell_type": "code",
      "execution_count": null,
      "metadata": {
        "id": "_OCeDrWZsJnN",
        "outputId": "df668aec-6768-4b39-a716-dcb57c72caf9"
      },
      "outputs": [
        {
          "data": {
            "text/plain": [
              "count    456548.000000\n",
              "mean        261.872760\n",
              "std         395.922798\n",
              "min          13.000000\n",
              "25%          54.000000\n",
              "50%         136.000000\n",
              "75%         324.000000\n",
              "max       24299.000000\n",
              "Name: num_orders, dtype: float64"
            ]
          },
          "execution_count": 35,
          "metadata": {},
          "output_type": "execute_result"
        }
      ],
      "source": [
        "train['num_orders'].describe()"
      ]
    },
    {
      "cell_type": "markdown",
      "metadata": {
        "id": "mQXV7qC4sJnO"
      },
      "source": [
        "# Checking for Null Values"
      ]
    },
    {
      "cell_type": "code",
      "execution_count": null,
      "metadata": {
        "id": "MwOOO582sJnP",
        "outputId": "2a8055e7-633d-442e-e8d3-e2cffc332636"
      },
      "outputs": [
        {
          "data": {
            "text/plain": [
              "id                       0\n",
              "week                     0\n",
              "center_id                0\n",
              "meal_id                  0\n",
              "checkout_price           0\n",
              "base_price               0\n",
              "emailer_for_promotion    0\n",
              "homepage_featured        0\n",
              "num_orders               0\n",
              "dtype: int64"
            ]
          },
          "execution_count": 36,
          "metadata": {},
          "output_type": "execute_result"
        }
      ],
      "source": [
        "train.isnull().sum()"
      ]
    },
    {
      "cell_type": "markdown",
      "metadata": {
        "id": "UhI5h3hbsJnQ"
      },
      "source": [
        "# Reading and Merging .csv files"
      ]
    },
    {
      "cell_type": "code",
      "execution_count": null,
      "metadata": {
        "id": "rWjq7Ia1sJnR"
      },
      "outputs": [],
      "source": [
        "meal_info = pd.read_csv(\"meal_info.csv\")\n",
        "center_info = pd.read_csv(\"fullfilment_center_info.csv\")"
      ]
    },
    {
      "cell_type": "code",
      "execution_count": null,
      "metadata": {
        "id": "ZArE1CQ8sJnR"
      },
      "outputs": [],
      "source": [
        "trainfinal = pd.merge(train, meal_info, on=\"meal_id\", how=\"outer\")\n",
        "trainfinal = pd.merge(trainfinal, center_info, on=\"center_id\", how=\"outer\")"
      ]
    },
    {
      "cell_type": "code",
      "execution_count": null,
      "metadata": {
        "id": "xRhOEYNasJnS",
        "outputId": "40858635-b380-44bf-cb3e-760c7e4097d7"
      },
      "outputs": [
        {
          "data": {
            "text/html": [
              "<div>\n",
              "<style scoped>\n",
              "    .dataframe tbody tr th:only-of-type {\n",
              "        vertical-align: middle;\n",
              "    }\n",
              "\n",
              "    .dataframe tbody tr th {\n",
              "        vertical-align: top;\n",
              "    }\n",
              "\n",
              "    .dataframe thead th {\n",
              "        text-align: right;\n",
              "    }\n",
              "</style>\n",
              "<table border=\"1\" class=\"dataframe\">\n",
              "  <thead>\n",
              "    <tr style=\"text-align: right;\">\n",
              "      <th></th>\n",
              "      <th>id</th>\n",
              "      <th>week</th>\n",
              "      <th>center_id</th>\n",
              "      <th>meal_id</th>\n",
              "      <th>checkout_price</th>\n",
              "      <th>base_price</th>\n",
              "      <th>emailer_for_promotion</th>\n",
              "      <th>homepage_featured</th>\n",
              "      <th>num_orders</th>\n",
              "      <th>category</th>\n",
              "      <th>cuisine</th>\n",
              "      <th>city_code</th>\n",
              "      <th>region_code</th>\n",
              "      <th>center_type</th>\n",
              "      <th>op_area</th>\n",
              "    </tr>\n",
              "  </thead>\n",
              "  <tbody>\n",
              "    <tr>\n",
              "      <th>0</th>\n",
              "      <td>1379560</td>\n",
              "      <td>1</td>\n",
              "      <td>55</td>\n",
              "      <td>1885</td>\n",
              "      <td>136.83</td>\n",
              "      <td>152.29</td>\n",
              "      <td>0</td>\n",
              "      <td>0</td>\n",
              "      <td>177</td>\n",
              "      <td>Beverages</td>\n",
              "      <td>Thai</td>\n",
              "      <td>647</td>\n",
              "      <td>56</td>\n",
              "      <td>TYPE_C</td>\n",
              "      <td>2.0</td>\n",
              "    </tr>\n",
              "    <tr>\n",
              "      <th>1</th>\n",
              "      <td>1018704</td>\n",
              "      <td>2</td>\n",
              "      <td>55</td>\n",
              "      <td>1885</td>\n",
              "      <td>135.83</td>\n",
              "      <td>152.29</td>\n",
              "      <td>0</td>\n",
              "      <td>0</td>\n",
              "      <td>323</td>\n",
              "      <td>Beverages</td>\n",
              "      <td>Thai</td>\n",
              "      <td>647</td>\n",
              "      <td>56</td>\n",
              "      <td>TYPE_C</td>\n",
              "      <td>2.0</td>\n",
              "    </tr>\n",
              "    <tr>\n",
              "      <th>2</th>\n",
              "      <td>1196273</td>\n",
              "      <td>3</td>\n",
              "      <td>55</td>\n",
              "      <td>1885</td>\n",
              "      <td>132.92</td>\n",
              "      <td>133.92</td>\n",
              "      <td>0</td>\n",
              "      <td>0</td>\n",
              "      <td>96</td>\n",
              "      <td>Beverages</td>\n",
              "      <td>Thai</td>\n",
              "      <td>647</td>\n",
              "      <td>56</td>\n",
              "      <td>TYPE_C</td>\n",
              "      <td>2.0</td>\n",
              "    </tr>\n",
              "    <tr>\n",
              "      <th>3</th>\n",
              "      <td>1116527</td>\n",
              "      <td>4</td>\n",
              "      <td>55</td>\n",
              "      <td>1885</td>\n",
              "      <td>135.86</td>\n",
              "      <td>134.86</td>\n",
              "      <td>0</td>\n",
              "      <td>0</td>\n",
              "      <td>163</td>\n",
              "      <td>Beverages</td>\n",
              "      <td>Thai</td>\n",
              "      <td>647</td>\n",
              "      <td>56</td>\n",
              "      <td>TYPE_C</td>\n",
              "      <td>2.0</td>\n",
              "    </tr>\n",
              "    <tr>\n",
              "      <th>4</th>\n",
              "      <td>1343872</td>\n",
              "      <td>5</td>\n",
              "      <td>55</td>\n",
              "      <td>1885</td>\n",
              "      <td>146.50</td>\n",
              "      <td>147.50</td>\n",
              "      <td>0</td>\n",
              "      <td>0</td>\n",
              "      <td>215</td>\n",
              "      <td>Beverages</td>\n",
              "      <td>Thai</td>\n",
              "      <td>647</td>\n",
              "      <td>56</td>\n",
              "      <td>TYPE_C</td>\n",
              "      <td>2.0</td>\n",
              "    </tr>\n",
              "  </tbody>\n",
              "</table>\n",
              "</div>"
            ],
            "text/plain": [
              "        id  week  center_id  meal_id  checkout_price  base_price  \\\n",
              "0  1379560     1         55     1885          136.83      152.29   \n",
              "1  1018704     2         55     1885          135.83      152.29   \n",
              "2  1196273     3         55     1885          132.92      133.92   \n",
              "3  1116527     4         55     1885          135.86      134.86   \n",
              "4  1343872     5         55     1885          146.50      147.50   \n",
              "\n",
              "   emailer_for_promotion  homepage_featured  num_orders   category cuisine  \\\n",
              "0                      0                  0         177  Beverages    Thai   \n",
              "1                      0                  0         323  Beverages    Thai   \n",
              "2                      0                  0          96  Beverages    Thai   \n",
              "3                      0                  0         163  Beverages    Thai   \n",
              "4                      0                  0         215  Beverages    Thai   \n",
              "\n",
              "   city_code  region_code center_type  op_area  \n",
              "0        647           56      TYPE_C      2.0  \n",
              "1        647           56      TYPE_C      2.0  \n",
              "2        647           56      TYPE_C      2.0  \n",
              "3        647           56      TYPE_C      2.0  \n",
              "4        647           56      TYPE_C      2.0  "
            ]
          },
          "execution_count": 39,
          "metadata": {},
          "output_type": "execute_result"
        }
      ],
      "source": [
        "trainfinal.head()"
      ]
    },
    {
      "cell_type": "markdown",
      "metadata": {
        "id": "eRRmhK3lsJnS"
      },
      "source": [
        "# Dropping Columns"
      ]
    },
    {
      "cell_type": "code",
      "execution_count": null,
      "metadata": {
        "id": "ABt7_BagsJnT",
        "outputId": "f36353da-d661-4a47-add2-b8653c22d50f"
      },
      "outputs": [
        {
          "data": {
            "text/html": [
              "<div>\n",
              "<style scoped>\n",
              "    .dataframe tbody tr th:only-of-type {\n",
              "        vertical-align: middle;\n",
              "    }\n",
              "\n",
              "    .dataframe tbody tr th {\n",
              "        vertical-align: top;\n",
              "    }\n",
              "\n",
              "    .dataframe thead th {\n",
              "        text-align: right;\n",
              "    }\n",
              "</style>\n",
              "<table border=\"1\" class=\"dataframe\">\n",
              "  <thead>\n",
              "    <tr style=\"text-align: right;\">\n",
              "      <th></th>\n",
              "      <th>id</th>\n",
              "      <th>week</th>\n",
              "      <th>checkout_price</th>\n",
              "      <th>base_price</th>\n",
              "      <th>emailer_for_promotion</th>\n",
              "      <th>homepage_featured</th>\n",
              "      <th>num_orders</th>\n",
              "      <th>category</th>\n",
              "      <th>cuisine</th>\n",
              "      <th>city_code</th>\n",
              "      <th>region_code</th>\n",
              "      <th>center_type</th>\n",
              "      <th>op_area</th>\n",
              "    </tr>\n",
              "  </thead>\n",
              "  <tbody>\n",
              "    <tr>\n",
              "      <th>0</th>\n",
              "      <td>1379560</td>\n",
              "      <td>1</td>\n",
              "      <td>136.83</td>\n",
              "      <td>152.29</td>\n",
              "      <td>0</td>\n",
              "      <td>0</td>\n",
              "      <td>177</td>\n",
              "      <td>Beverages</td>\n",
              "      <td>Thai</td>\n",
              "      <td>647</td>\n",
              "      <td>56</td>\n",
              "      <td>TYPE_C</td>\n",
              "      <td>2.0</td>\n",
              "    </tr>\n",
              "    <tr>\n",
              "      <th>1</th>\n",
              "      <td>1018704</td>\n",
              "      <td>2</td>\n",
              "      <td>135.83</td>\n",
              "      <td>152.29</td>\n",
              "      <td>0</td>\n",
              "      <td>0</td>\n",
              "      <td>323</td>\n",
              "      <td>Beverages</td>\n",
              "      <td>Thai</td>\n",
              "      <td>647</td>\n",
              "      <td>56</td>\n",
              "      <td>TYPE_C</td>\n",
              "      <td>2.0</td>\n",
              "    </tr>\n",
              "    <tr>\n",
              "      <th>2</th>\n",
              "      <td>1196273</td>\n",
              "      <td>3</td>\n",
              "      <td>132.92</td>\n",
              "      <td>133.92</td>\n",
              "      <td>0</td>\n",
              "      <td>0</td>\n",
              "      <td>96</td>\n",
              "      <td>Beverages</td>\n",
              "      <td>Thai</td>\n",
              "      <td>647</td>\n",
              "      <td>56</td>\n",
              "      <td>TYPE_C</td>\n",
              "      <td>2.0</td>\n",
              "    </tr>\n",
              "    <tr>\n",
              "      <th>3</th>\n",
              "      <td>1116527</td>\n",
              "      <td>4</td>\n",
              "      <td>135.86</td>\n",
              "      <td>134.86</td>\n",
              "      <td>0</td>\n",
              "      <td>0</td>\n",
              "      <td>163</td>\n",
              "      <td>Beverages</td>\n",
              "      <td>Thai</td>\n",
              "      <td>647</td>\n",
              "      <td>56</td>\n",
              "      <td>TYPE_C</td>\n",
              "      <td>2.0</td>\n",
              "    </tr>\n",
              "    <tr>\n",
              "      <th>4</th>\n",
              "      <td>1343872</td>\n",
              "      <td>5</td>\n",
              "      <td>146.50</td>\n",
              "      <td>147.50</td>\n",
              "      <td>0</td>\n",
              "      <td>0</td>\n",
              "      <td>215</td>\n",
              "      <td>Beverages</td>\n",
              "      <td>Thai</td>\n",
              "      <td>647</td>\n",
              "      <td>56</td>\n",
              "      <td>TYPE_C</td>\n",
              "      <td>2.0</td>\n",
              "    </tr>\n",
              "  </tbody>\n",
              "</table>\n",
              "</div>"
            ],
            "text/plain": [
              "        id  week  checkout_price  base_price  emailer_for_promotion  \\\n",
              "0  1379560     1          136.83      152.29                      0   \n",
              "1  1018704     2          135.83      152.29                      0   \n",
              "2  1196273     3          132.92      133.92                      0   \n",
              "3  1116527     4          135.86      134.86                      0   \n",
              "4  1343872     5          146.50      147.50                      0   \n",
              "\n",
              "   homepage_featured  num_orders   category cuisine  city_code  region_code  \\\n",
              "0                  0         177  Beverages    Thai        647           56   \n",
              "1                  0         323  Beverages    Thai        647           56   \n",
              "2                  0          96  Beverages    Thai        647           56   \n",
              "3                  0         163  Beverages    Thai        647           56   \n",
              "4                  0         215  Beverages    Thai        647           56   \n",
              "\n",
              "  center_type  op_area  \n",
              "0      TYPE_C      2.0  \n",
              "1      TYPE_C      2.0  \n",
              "2      TYPE_C      2.0  \n",
              "3      TYPE_C      2.0  \n",
              "4      TYPE_C      2.0  "
            ]
          },
          "execution_count": 40,
          "metadata": {},
          "output_type": "execute_result"
        }
      ],
      "source": [
        "trainfinal=trainfinal.drop(['center_id','meal_id'],axis=1)\n",
        "trainfinal.head()"
      ]
    },
    {
      "cell_type": "code",
      "execution_count": null,
      "metadata": {
        "id": "X6qDULUQsJnU",
        "outputId": "15274d77-9f09-4dea-ab8b-79f545a19152"
      },
      "outputs": [
        {
          "name": "stdout",
          "output_type": "stream",
          "text": [
            "['id', 'week', 'checkout_price', 'base_price', 'emailer_for_promotion', 'homepage_featured', 'num_orders', 'category', 'cuisine', 'city_code', 'region_code', 'center_type', 'op_area']\n"
          ]
        }
      ],
      "source": [
        "cols=trainfinal.columns.tolist()\n",
        "print(cols)"
      ]
    },
    {
      "cell_type": "code",
      "execution_count": null,
      "metadata": {
        "id": "ZOvimr8nsJnU",
        "outputId": "fb9b9caa-8cc1-4b88-b392-0aa915760236"
      },
      "outputs": [
        {
          "name": "stdout",
          "output_type": "stream",
          "text": [
            "['id', 'week', 'city_code', 'region_code', 'center_type', 'op_area', 'category', 'cuisine', 'checkout_price', 'base_price', 'emailer_for_promotion', 'homepage_featured', 'num_orders']\n"
          ]
        }
      ],
      "source": [
        "cols=cols[:2]+cols[9:]+cols[7:9]+cols[2:7]\n",
        "print(cols)"
      ]
    },
    {
      "cell_type": "code",
      "execution_count": null,
      "metadata": {
        "id": "B1BpsTV1sJnV"
      },
      "outputs": [],
      "source": [
        "trainfinal=trainfinal[cols]"
      ]
    },
    {
      "cell_type": "code",
      "execution_count": null,
      "metadata": {
        "id": "gBwZ1SWnsJnW",
        "outputId": "18544f6d-f4f8-49a0-94b4-42aee01b5ad9"
      },
      "outputs": [
        {
          "data": {
            "text/plain": [
              "id                         int64\n",
              "week                       int64\n",
              "city_code                  int64\n",
              "region_code                int64\n",
              "center_type               object\n",
              "op_area                  float64\n",
              "category                  object\n",
              "cuisine                   object\n",
              "checkout_price           float64\n",
              "base_price               float64\n",
              "emailer_for_promotion      int64\n",
              "homepage_featured          int64\n",
              "num_orders                 int64\n",
              "dtype: object"
            ]
          },
          "execution_count": 44,
          "metadata": {},
          "output_type": "execute_result"
        }
      ],
      "source": [
        "trainfinal.dtypes"
      ]
    },
    {
      "cell_type": "markdown",
      "metadata": {
        "id": "KnSzDogbsJnX"
      },
      "source": [
        "# Label Encoding"
      ]
    },
    {
      "cell_type": "code",
      "execution_count": null,
      "metadata": {
        "id": "mBOZnFs3sJnX"
      },
      "outputs": [],
      "source": [
        "from sklearn.preprocessing import LabelEncoder"
      ]
    },
    {
      "cell_type": "code",
      "execution_count": null,
      "metadata": {
        "id": "MZvpi_BesJnY"
      },
      "outputs": [],
      "source": [
        "lb1=LabelEncoder()\n",
        "trainfinal['center_type']=lb1.fit_transform(trainfinal['center_type'])\n",
        "lb2=LabelEncoder()\n",
        "trainfinal['category']=lb1.fit_transform(trainfinal['category'])\n",
        "lb1=LabelEncoder()\n",
        "trainfinal['cuisine']=lb1.fit_transform(trainfinal['cuisine'])"
      ]
    },
    {
      "cell_type": "code",
      "execution_count": null,
      "metadata": {
        "id": "fvic2E2GsJnZ",
        "outputId": "ebc56778-5e0e-4130-e156-03b23f6f5c2f"
      },
      "outputs": [
        {
          "data": {
            "text/html": [
              "<div>\n",
              "<style scoped>\n",
              "    .dataframe tbody tr th:only-of-type {\n",
              "        vertical-align: middle;\n",
              "    }\n",
              "\n",
              "    .dataframe tbody tr th {\n",
              "        vertical-align: top;\n",
              "    }\n",
              "\n",
              "    .dataframe thead th {\n",
              "        text-align: right;\n",
              "    }\n",
              "</style>\n",
              "<table border=\"1\" class=\"dataframe\">\n",
              "  <thead>\n",
              "    <tr style=\"text-align: right;\">\n",
              "      <th></th>\n",
              "      <th>id</th>\n",
              "      <th>week</th>\n",
              "      <th>city_code</th>\n",
              "      <th>region_code</th>\n",
              "      <th>center_type</th>\n",
              "      <th>op_area</th>\n",
              "      <th>category</th>\n",
              "      <th>cuisine</th>\n",
              "      <th>checkout_price</th>\n",
              "      <th>base_price</th>\n",
              "      <th>emailer_for_promotion</th>\n",
              "      <th>homepage_featured</th>\n",
              "      <th>num_orders</th>\n",
              "    </tr>\n",
              "  </thead>\n",
              "  <tbody>\n",
              "    <tr>\n",
              "      <th>0</th>\n",
              "      <td>1379560</td>\n",
              "      <td>1</td>\n",
              "      <td>647</td>\n",
              "      <td>56</td>\n",
              "      <td>2</td>\n",
              "      <td>2.0</td>\n",
              "      <td>0</td>\n",
              "      <td>3</td>\n",
              "      <td>136.83</td>\n",
              "      <td>152.29</td>\n",
              "      <td>0</td>\n",
              "      <td>0</td>\n",
              "      <td>177</td>\n",
              "    </tr>\n",
              "    <tr>\n",
              "      <th>1</th>\n",
              "      <td>1018704</td>\n",
              "      <td>2</td>\n",
              "      <td>647</td>\n",
              "      <td>56</td>\n",
              "      <td>2</td>\n",
              "      <td>2.0</td>\n",
              "      <td>0</td>\n",
              "      <td>3</td>\n",
              "      <td>135.83</td>\n",
              "      <td>152.29</td>\n",
              "      <td>0</td>\n",
              "      <td>0</td>\n",
              "      <td>323</td>\n",
              "    </tr>\n",
              "    <tr>\n",
              "      <th>2</th>\n",
              "      <td>1196273</td>\n",
              "      <td>3</td>\n",
              "      <td>647</td>\n",
              "      <td>56</td>\n",
              "      <td>2</td>\n",
              "      <td>2.0</td>\n",
              "      <td>0</td>\n",
              "      <td>3</td>\n",
              "      <td>132.92</td>\n",
              "      <td>133.92</td>\n",
              "      <td>0</td>\n",
              "      <td>0</td>\n",
              "      <td>96</td>\n",
              "    </tr>\n",
              "    <tr>\n",
              "      <th>3</th>\n",
              "      <td>1116527</td>\n",
              "      <td>4</td>\n",
              "      <td>647</td>\n",
              "      <td>56</td>\n",
              "      <td>2</td>\n",
              "      <td>2.0</td>\n",
              "      <td>0</td>\n",
              "      <td>3</td>\n",
              "      <td>135.86</td>\n",
              "      <td>134.86</td>\n",
              "      <td>0</td>\n",
              "      <td>0</td>\n",
              "      <td>163</td>\n",
              "    </tr>\n",
              "    <tr>\n",
              "      <th>4</th>\n",
              "      <td>1343872</td>\n",
              "      <td>5</td>\n",
              "      <td>647</td>\n",
              "      <td>56</td>\n",
              "      <td>2</td>\n",
              "      <td>2.0</td>\n",
              "      <td>0</td>\n",
              "      <td>3</td>\n",
              "      <td>146.50</td>\n",
              "      <td>147.50</td>\n",
              "      <td>0</td>\n",
              "      <td>0</td>\n",
              "      <td>215</td>\n",
              "    </tr>\n",
              "  </tbody>\n",
              "</table>\n",
              "</div>"
            ],
            "text/plain": [
              "        id  week  city_code  region_code  center_type  op_area  category  \\\n",
              "0  1379560     1        647           56            2      2.0         0   \n",
              "1  1018704     2        647           56            2      2.0         0   \n",
              "2  1196273     3        647           56            2      2.0         0   \n",
              "3  1116527     4        647           56            2      2.0         0   \n",
              "4  1343872     5        647           56            2      2.0         0   \n",
              "\n",
              "   cuisine  checkout_price  base_price  emailer_for_promotion  \\\n",
              "0        3          136.83      152.29                      0   \n",
              "1        3          135.83      152.29                      0   \n",
              "2        3          132.92      133.92                      0   \n",
              "3        3          135.86      134.86                      0   \n",
              "4        3          146.50      147.50                      0   \n",
              "\n",
              "   homepage_featured  num_orders  \n",
              "0                  0         177  \n",
              "1                  0         323  \n",
              "2                  0          96  \n",
              "3                  0         163  \n",
              "4                  0         215  "
            ]
          },
          "execution_count": 47,
          "metadata": {},
          "output_type": "execute_result"
        }
      ],
      "source": [
        "trainfinal.head()"
      ]
    },
    {
      "cell_type": "code",
      "execution_count": null,
      "metadata": {
        "id": "2_MbiIoAsJnZ",
        "outputId": "5b584694-7e87-498a-c774-05933da1d063"
      },
      "outputs": [
        {
          "data": {
            "text/plain": [
              "(456548, 13)"
            ]
          },
          "execution_count": 48,
          "metadata": {},
          "output_type": "execute_result"
        }
      ],
      "source": [
        "trainfinal.shape"
      ]
    },
    {
      "cell_type": "markdown",
      "metadata": {
        "id": "DC8EywHFsJna"
      },
      "source": [
        "# Data Visualisation"
      ]
    },
    {
      "cell_type": "code",
      "execution_count": null,
      "metadata": {
        "id": "K3C66fBxsJna",
        "outputId": "9b47656a-9c9d-4d67-d2ba-f3a914962c6f"
      },
      "outputs": [
        {
          "name": "stderr",
          "output_type": "stream",
          "text": [
            "C:\\Users\\kmrug\\anaconda3\\lib\\site-packages\\seaborn\\distributions.py:2619: FutureWarning: `distplot` is a deprecated function and will be removed in a future version. Please adapt your code to use either `displot` (a figure-level function with similar flexibility) or `histplot` (an axes-level function for histograms).\n",
            "  warnings.warn(msg, FutureWarning)\n"
          ]
        },
        {
          "data": {
            "text/plain": [
              "Text(0.5, 0, 'num_orders Distribution')"
            ]
          },
          "execution_count": 49,
          "metadata": {},
          "output_type": "execute_result"
        },
        {
          "data": {
            "image/png": "[encoded data removed]",
            "text/plain": [
              "<Figure size 1200x700 with 1 Axes>"
            ]
          },
          "metadata": {},
          "output_type": "display_data"
        }
      ],
      "source": [
        "plt.style.use('fivethirtyeight')\n",
        "plt.figure(figsize=(12,7))\n",
        "sb.distplot(trainfinal.num_orders,bins=25)\n",
        "plt.xlabel(\"num_orders\")\n",
        "plt.ylabel(\"Number of Buyers\")\n",
        "plt.xlabel(\"num_orders Distribution\")"
      ]
    },
    {
      "cell_type": "code",
      "execution_count": null,
      "metadata": {
        "id": "i-ksxsopsJnc",
        "outputId": "a1dabb70-138d-45f7-8c5b-90836c12d5de"
      },
      "outputs": [
        {
          "data": {
            "text/plain": [
              "Index(['num_orders', 'homepage_featured', 'emailer_for_promotion', 'op_area',\n",
              "       'cuisine', 'city_code', 'region_code', 'category'],\n",
              "      dtype='object')"
            ]
          },
          "execution_count": 50,
          "metadata": {},
          "output_type": "execute_result"
        }
      ],
      "source": [
        "trainfinal2=trainfinal.drop(['id'],axis=1)\n",
        "correlation=trainfinal2.corr(method='pearson')\n",
        "columns=correlation.nlargest(8,'num_orders').index\n",
        "columns"
      ]
    },
    {
      "cell_type": "code",
      "execution_count": null,
      "metadata": {
        "id": "cJf75gFdsJnd",
        "outputId": "8f50ede9-2a52-4677-94e3-fc7ede2faed6"
      },
      "outputs": [
        {
          "data": {
            "image/png": "[encoded data removed]",
            "text/plain": [
              "<Figure size 640x480 with 2 Axes>"
            ]
          },
          "metadata": {},
          "output_type": "display_data"
        }
      ],
      "source": [
        "correlation_map=np.corrcoef(trainfinal[columns].values.T)\n",
        "sb.set(font_scale=1.0)\n",
        "heatmap=sb.heatmap(correlation_map, cbar=True, annot=True, square=True, fmt='.2f', yticklabels=columns.values, xticklabels=columns.values)"
      ]
    },
    {
      "cell_type": "markdown",
      "metadata": {
        "id": "Eu4SvrzfsJnf"
      },
      "source": [
        "# Splitting the dataset into Dependent and Independent variables"
      ]
    },
    {
      "cell_type": "code",
      "execution_count": null,
      "metadata": {
        "id": "nFoAkBJIsJnf"
      },
      "outputs": [],
      "source": [
        "features=columns.drop(['num_orders'])\n",
        "trainfinal3=trainfinal[features]\n",
        "x=trainfinal3.values\n",
        "y=trainfinal['num_orders'].values"
      ]
    },
    {
      "cell_type": "code",
      "execution_count": null,
      "metadata": {
        "id": "bvK-H7MhsJng",
        "outputId": "b673a574-ad55-4215-b442-83d57d55fd8f"
      },
      "outputs": [
        {
          "data": {
            "text/html": [
              "<div>\n",
              "<style scoped>\n",
              "    .dataframe tbody tr th:only-of-type {\n",
              "        vertical-align: middle;\n",
              "    }\n",
              "\n",
              "    .dataframe tbody tr th {\n",
              "        vertical-align: top;\n",
              "    }\n",
              "\n",
              "    .dataframe thead th {\n",
              "        text-align: right;\n",
              "    }\n",
              "</style>\n",
              "<table border=\"1\" class=\"dataframe\">\n",
              "  <thead>\n",
              "    <tr style=\"text-align: right;\">\n",
              "      <th></th>\n",
              "      <th>homepage_featured</th>\n",
              "      <th>emailer_for_promotion</th>\n",
              "      <th>op_area</th>\n",
              "      <th>cuisine</th>\n",
              "      <th>city_code</th>\n",
              "      <th>region_code</th>\n",
              "      <th>category</th>\n",
              "    </tr>\n",
              "  </thead>\n",
              "  <tbody>\n",
              "    <tr>\n",
              "      <th>0</th>\n",
              "      <td>0</td>\n",
              "      <td>0</td>\n",
              "      <td>2.0</td>\n",
              "      <td>3</td>\n",
              "      <td>647</td>\n",
              "      <td>56</td>\n",
              "      <td>0</td>\n",
              "    </tr>\n",
              "    <tr>\n",
              "      <th>1</th>\n",
              "      <td>0</td>\n",
              "      <td>0</td>\n",
              "      <td>2.0</td>\n",
              "      <td>3</td>\n",
              "      <td>647</td>\n",
              "      <td>56</td>\n",
              "      <td>0</td>\n",
              "    </tr>\n",
              "    <tr>\n",
              "      <th>2</th>\n",
              "      <td>0</td>\n",
              "      <td>0</td>\n",
              "      <td>2.0</td>\n",
              "      <td>3</td>\n",
              "      <td>647</td>\n",
              "      <td>56</td>\n",
              "      <td>0</td>\n",
              "    </tr>\n",
              "    <tr>\n",
              "      <th>3</th>\n",
              "      <td>0</td>\n",
              "      <td>0</td>\n",
              "      <td>2.0</td>\n",
              "      <td>3</td>\n",
              "      <td>647</td>\n",
              "      <td>56</td>\n",
              "      <td>0</td>\n",
              "    </tr>\n",
              "    <tr>\n",
              "      <th>4</th>\n",
              "      <td>0</td>\n",
              "      <td>0</td>\n",
              "      <td>2.0</td>\n",
              "      <td>3</td>\n",
              "      <td>647</td>\n",
              "      <td>56</td>\n",
              "      <td>0</td>\n",
              "    </tr>\n",
              "  </tbody>\n",
              "</table>\n",
              "</div>"
            ],
            "text/plain": [
              "   homepage_featured  emailer_for_promotion  op_area  cuisine  city_code  \\\n",
              "0                  0                      0      2.0        3        647   \n",
              "1                  0                      0      2.0        3        647   \n",
              "2                  0                      0      2.0        3        647   \n",
              "3                  0                      0      2.0        3        647   \n",
              "4                  0                      0      2.0        3        647   \n",
              "\n",
              "   region_code  category  \n",
              "0           56         0  \n",
              "1           56         0  \n",
              "2           56         0  \n",
              "3           56         0  \n",
              "4           56         0  "
            ]
          },
          "execution_count": 53,
          "metadata": {},
          "output_type": "execute_result"
        }
      ],
      "source": [
        "trainfinal3.head()"
      ]
    },
    {
      "cell_type": "markdown",
      "metadata": {
        "id": "iCTJgz0csJng"
      },
      "source": [
        "# Split the Dataset into Train and Test Set"
      ]
    },
    {
      "cell_type": "code",
      "execution_count": null,
      "metadata": {
        "id": "-CwhTKvZsJnh"
      },
      "outputs": [],
      "source": [
        "from sklearn.model_selection import train_test_split\n",
        "x_train, x_val, y_train, y_val=train_test_split(x,y,test_size=0.25)"
      ]
    },
    {
      "cell_type": "markdown",
      "metadata": {
        "id": "CdZR_zXFsJnh"
      },
      "source": [
        "# Model Building"
      ]
    },
    {
      "cell_type": "markdown",
      "metadata": {
        "id": "rELof_zcsJni"
      },
      "source": [
        "# Train and Test Model Algorithms"
      ]
    },
    {
      "cell_type": "code",
      "execution_count": null,
      "metadata": {
        "id": "SiPgPkzJsJni"
      },
      "outputs": [],
      "source": [
        "from sklearn.linear_model import LinearRegression\n",
        "from sklearn.linear_model import Lasso\n",
        "from sklearn.linear_model import ElasticNet\n",
        "from sklearn.tree import DecisionTreeRegressor\n",
        "from sklearn.neighbors import KNeighborsRegressor\n",
        "from sklearn.ensemble import GradientBoostingRegressor"
      ]
    },
    {
      "cell_type": "markdown",
      "metadata": {
        "id": "RWdtPBHKsJnj"
      },
      "source": [
        "# Model Evaluation"
      ]
    },
    {
      "cell_type": "code",
      "execution_count": null,
      "metadata": {
        "id": "3laYoB3PsJnj",
        "outputId": "e482da04-4c55-4ecd-bfc0-050d36986802"
      },
      "outputs": [
        {
          "name": "stdout",
          "output_type": "stream",
          "text": [
            "RMSLE: 129.8095924419418\n"
          ]
        }
      ],
      "source": [
        "LR = LinearRegression()\n",
        "LR.fit(x_train,y_train)\n",
        "y_pred = LR.predict(x_val)\n",
        "y_pred[y_pred<0]=0\n",
        "from sklearn import metrics\n",
        "print('RMSLE:',100*np.sqrt(metrics.mean_squared_log_error(y_val,y_pred)))\n"
      ]
    },
    {
      "cell_type": "code",
      "execution_count": null,
      "metadata": {
        "id": "poxwAwO6sJnk",
        "outputId": "cc396d7a-99c8-472d-ddd0-1c67e6b76170"
      },
      "outputs": [
        {
          "name": "stdout",
          "output_type": "stream",
          "text": [
            "RMSLE: 129.8095924419418\n"
          ]
        }
      ],
      "source": [
        "L=Lasso()\n",
        "L.fit(x_train,y_train)\n",
        "y_pred=LR.predict(x_val)\n",
        "y_pred[y_pred<0]=0\n",
        "from sklearn import metrics\n",
        "print('RMSLE:',100*np.sqrt(metrics.mean_squared_log_error(y_val,y_pred)))"
      ]
    },
    {
      "cell_type": "code",
      "execution_count": null,
      "metadata": {
        "id": "J3edVCDZsJnl",
        "outputId": "88809154-6a70-463e-9e29-58fbbbd48e66"
      },
      "outputs": [
        {
          "name": "stdout",
          "output_type": "stream",
          "text": [
            "RMSLE: 131.23278835846813\n"
          ]
        }
      ],
      "source": [
        "EN=ElasticNet()\n",
        "EN.fit(x_train,y_train)\n",
        "y_pred=EN.predict(x_val)\n",
        "y_pred[y_pred<0]=0\n",
        "from sklearn import metrics\n",
        "print('RMSLE:',100*np.sqrt(metrics.mean_squared_log_error(y_val,y_pred)))"
      ]
    },
    {
      "cell_type": "code",
      "execution_count": null,
      "metadata": {
        "id": "M35WL2YPsJnl",
        "outputId": "09c2b663-8db8-4822-cc33-84d994635d7f"
      },
      "outputs": [
        {
          "name": "stdout",
          "output_type": "stream",
          "text": [
            "RMSLE: 62.85827099088529\n"
          ]
        }
      ],
      "source": [
        "DT=DecisionTreeRegressor()\n",
        "DT.fit(x_train,y_train)\n",
        "y_pred=DT.predict(x_val)\n",
        "y_pred[y_pred<0]=0\n",
        "from sklearn import metrics\n",
        "print('RMSLE:',100*np.sqrt(metrics.mean_squared_log_error(y_val,y_pred)))"
      ]
    },
    {
      "cell_type": "code",
      "execution_count": null,
      "metadata": {
        "id": "Fb9DKVUSsJnm",
        "outputId": "6dd5568b-d798-4743-e36e-009095374855"
      },
      "outputs": [
        {
          "name": "stdout",
          "output_type": "stream",
          "text": [
            "RMSLE: 66.49955164596949\n"
          ]
        }
      ],
      "source": [
        "KNN=KNeighborsRegressor()\n",
        "KNN.fit(x_train,y_train)\n",
        "y_pred=KNN.predict(x_val)\n",
        "y_pred[y_pred<0]=0\n",
        "from sklearn import metrics\n",
        "print('RMSLE:',100*np.sqrt(metrics.mean_squared_log_error(y_val,y_pred)))"
      ]
    },
    {
      "cell_type": "code",
      "execution_count": null,
      "metadata": {
        "id": "oD5LRB2QsJnm",
        "outputId": "f93da9e7-25ca-4564-8730-6907fd57a8af"
      },
      "outputs": [
        {
          "name": "stdout",
          "output_type": "stream",
          "text": [
            "RMSLE: 97.11281806834916\n"
          ]
        }
      ],
      "source": [
        "GB=GradientBoostingRegressor()\n",
        "GB.fit(x_train,y_train)\n",
        "y_pred=GB.predict(x_val)\n",
        "y_pred[y_pred<0]=0\n",
        "from sklearn import metrics\n",
        "print('RMSLE:',100*np.sqrt(metrics.mean_squared_log_error(y_val,y_pred)))"
      ]
    },
    {
      "cell_type": "markdown",
      "metadata": {
        "id": "Ps-gt5hbsJnn"
      },
      "source": [
        "# Save the Model"
      ]
    },
    {
      "cell_type": "code",
      "execution_count": null,
      "metadata": {
        "id": "8nPZvt_fsJnn"
      },
      "outputs": [],
      "source": [
        "import pickle\n",
        "pickle.dump(DT,open('fdemand.pkl','wb'))"
      ]
    },
    {
      "cell_type": "markdown",
      "metadata": {
        "id": "NDKuVvPZsJnn"
      },
      "source": [
        "# Predicting the output using the model"
      ]
    },
    {
      "cell_type": "code",
      "execution_count": null,
      "metadata": {
        "id": "7l5tICbvsJno"
      },
      "outputs": [],
      "source": [
        "testfinal=pd.merge(test,meal_info, on=\"meal_id\", how=\"outer\")\n",
        "testfinal=pd.merge(testfinal, center_info, on=\"center_id\", how=\"outer\")\n",
        "testfinal=testfinal.drop(['meal_id','center_id'],axis=1)\n",
        "tcols=testfinal.columns.tolist()\n",
        "tcols=tcols[:2]+tcols[8:]+tcols[6:8]+tcols[2:6]\n",
        "testfinal=testfinal[tcols]\n",
        "lb1=LabelEncoder()\n",
        "testfinal['center_type']=lb1.fit_transform(testfinal['center_type'])\n",
        "lb2=LabelEncoder()\n",
        "testfinal['category']=lb1.fit_transform(testfinal['category'])\n",
        "lb1=LabelEncoder()\n",
        "testfinal['cuisine']=lb1.fit_transform(testfinal['cuisine'])\n",
        "x_test=testfinal[features].values"
      ]
    },
    {
      "cell_type": "code",
      "execution_count": null,
      "metadata": {
        "id": "Lb2unoH2sJno"
      },
      "outputs": [],
      "source": [
        "pred=DT.predict(x_test)\n",
        "pred[pred<0]=0\n",
        "submit=pd.DataFrame({'id':testfinal['id'],'num_orders':pred})"
      ]
    },
    {
      "cell_type": "code",
      "execution_count": null,
      "metadata": {
        "id": "qpMaFKLzsJnp",
        "outputId": "167f59fd-a9fa-4395-b596-dc81ab1cdf2b"
      },
      "outputs": [
        {
          "data": {
            "text/html": [
              "<div>\n",
              "<style scoped>\n",
              "    .dataframe tbody tr th:only-of-type {\n",
              "        vertical-align: middle;\n",
              "    }\n",
              "\n",
              "    .dataframe tbody tr th {\n",
              "        vertical-align: top;\n",
              "    }\n",
              "\n",
              "    .dataframe thead th {\n",
              "        text-align: right;\n",
              "    }\n",
              "</style>\n",
              "<table border=\"1\" class=\"dataframe\">\n",
              "  <thead>\n",
              "    <tr style=\"text-align: right;\">\n",
              "      <th></th>\n",
              "      <th>id</th>\n",
              "      <th>num_orders</th>\n",
              "    </tr>\n",
              "  </thead>\n",
              "  <tbody>\n",
              "    <tr>\n",
              "      <th>count</th>\n",
              "      <td>3.257300e+04</td>\n",
              "      <td>32573.000000</td>\n",
              "    </tr>\n",
              "    <tr>\n",
              "      <th>mean</th>\n",
              "      <td>1.248476e+06</td>\n",
              "      <td>262.279027</td>\n",
              "    </tr>\n",
              "    <tr>\n",
              "      <th>std</th>\n",
              "      <td>1.441580e+05</td>\n",
              "      <td>362.519131</td>\n",
              "    </tr>\n",
              "    <tr>\n",
              "      <th>min</th>\n",
              "      <td>1.000085e+06</td>\n",
              "      <td>15.383333</td>\n",
              "    </tr>\n",
              "    <tr>\n",
              "      <th>25%</th>\n",
              "      <td>1.123969e+06</td>\n",
              "      <td>64.710317</td>\n",
              "    </tr>\n",
              "    <tr>\n",
              "      <th>50%</th>\n",
              "      <td>1.247296e+06</td>\n",
              "      <td>146.771242</td>\n",
              "    </tr>\n",
              "    <tr>\n",
              "      <th>75%</th>\n",
              "      <td>1.372971e+06</td>\n",
              "      <td>320.029801</td>\n",
              "    </tr>\n",
              "    <tr>\n",
              "      <th>max</th>\n",
              "      <td>1.499996e+06</td>\n",
              "      <td>6131.000000</td>\n",
              "    </tr>\n",
              "  </tbody>\n",
              "</table>\n",
              "</div>"
            ],
            "text/plain": [
              "                 id    num_orders\n",
              "count  3.257300e+04  32573.000000\n",
              "mean   1.248476e+06    262.279027\n",
              "std    1.441580e+05    362.519131\n",
              "min    1.000085e+06     15.383333\n",
              "25%    1.123969e+06     64.710317\n",
              "50%    1.247296e+06    146.771242\n",
              "75%    1.372971e+06    320.029801\n",
              "max    1.499996e+06   6131.000000"
            ]
          },
          "execution_count": 76,
          "metadata": {},
          "output_type": "execute_result"
        }
      ],
      "source": [
        "submit.to_csv(\"submission.csv\",index=False)\n",
        "submit.describe()"
      ]
    },
    {
      "cell_type": "code",
      "execution_count": null,
      "metadata": {
        "id": "wXrMVWvtsJnp"
      },
      "outputs": [],
      "source": []
    }
  ],
  "metadata": {
    "kernelspec": {
      "display_name": "Python 3 (ipykernel)",
      "language": "python",
      "name": "python3"
    },
    "language_info": {
      "codemirror_mode": {
        "name": "ipython",
        "version": 3
      },
      "file_extension": ".py",
      "mimetype": "text/x-python",
      "name": "python",
      "nbconvert_exporter": "python",
      "pygments_lexer": "ipython3",
      "version": "3.9.13"
    },
    "colab": {
      "provenance": []
    }
  },
  "nbformat": 4,
  "nbformat_minor": 0
}